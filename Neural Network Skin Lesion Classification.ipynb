{
 "cells": [
  {
   "cell_type": "code",
   "execution_count": 59,
   "id": "8092ac56-c987-4454-af1a-7fa6500fd305",
   "metadata": {},
   "outputs": [],
   "source": [
    "# import statements\n",
    "import numpy as np\n",
    "import pandas as pd\n",
    "import matplotlib.pyplot as plt\n",
    "from pandas import DataFrame\n",
    "from sklearn.linear_model import LinearRegression\n",
    "from sklearn.model_selection import train_test_split\n",
    "from sklearn.linear_model import RidgeCV\n",
    "from sklearn.linear_model import LassoCV\n",
    "from sklearn.metrics import mean_squared_error\n",
    "from sklearn.linear_model import MultiTaskLassoCV\n",
    "from sklearn.preprocessing import StandardScaler\n",
    "from sklearn.linear_model import LogisticRegression\n",
    "from sklearn import metrics\n",
    "from sklearn.model_selection import cross_val_score\n",
    "from sklearn.linear_model import ElasticNet\n",
    "from sklearn.datasets import make_regression\n",
    "from sklearn.metrics import r2_score\n",
    "from sklearn.model_selection import cross_val_predict\n",
    "import seaborn as sns\n",
    "from sklearn.metrics import classification_report, confusion_matrix\n",
    "import copy\n",
    "from keras.models import Sequential\n",
    "from keras.utils import set_random_seed\n",
    "from sklearn.datasets import make_classification\n",
    "from sklearn.preprocessing import OneHotEncoder\n",
    "from sklearn.model_selection import GridSearchCV\n",
    "from sklearn.ensemble import RandomForestClassifier\n",
    "from keras.layers import Dense, Dropout, Conv2D, MaxPooling2D, Flatten, BatchNormalization, LeakyReLU\n",
    "from keras.preprocessing.image import ImageDataGenerator\n",
    "from keras.utils import to_categorical\n",
    "from sklearn.metrics import accuracy_score\n",
    "import tensorflow as tf\n",
    "import os\n",
    "from tensorflow.keras.regularizers import l2\n"
   ]
  },
  {
   "cell_type": "code",
   "execution_count": 78,
   "id": "bf964d78-f1d6-4a96-a5e2-29bec5b37ccf",
   "metadata": {},
   "outputs": [
    {
     "name": "stdout",
     "output_type": "stream",
     "text": [
      "Found 6058 validated image filenames belonging to 7 classes.\n",
      "Found 6058 validated image filenames belonging to 7 classes.\n",
      "Found 1515 validated image filenames belonging to 7 classes.\n",
      "Found 1515 validated image filenames belonging to 7 classes.\n",
      "Found 1894 validated image filenames belonging to 7 classes.\n"
     ]
    }
   ],
   "source": [
    "# Load Metadata\n",
    "metadata = pd.read_csv('./metadata.csv')\n",
    "\n",
    "# Add file extension to image_id to create a new column for image files\n",
    "metadata['image_file'] = metadata['image_id'] + '.jpg'\n",
    "\n",
    "# Encode categorical data\n",
    "encoder = OneHotEncoder(sparse_output=False)\n",
    "type_cat = encoder.fit_transform(metadata['dx'].values.reshape(-1,1))\n",
    "\n",
    "# Train-test split\n",
    "train_df, test_df = train_test_split(metadata, test_size=0.2, random_state=42)\n",
    "\n",
    "# Further split train_df into train and validation sets\n",
    "train_df, val_df = train_test_split(train_df, test_size=0.2, random_state=42)\n",
    "\n",
    "# Image paths and parameters\n",
    "image_size = (200, 200)  # Use an image size of 200x200 as per the tips\n",
    "num_classes = type_cat.shape[1]  # Number of classes based on one-hot encoding\n",
    "\n",
    "# ImageDataGenerator for training, validation, and test data\n",
    "train_image_gen = ImageDataGenerator(\n",
    "    rescale=1./255,\n",
    "    shear_range=0.2,\n",
    "    zoom_range=0.2\n",
    ")\n",
    "new_train_image_gen = ImageDataGenerator(\n",
    "    rescale=1./255,\n",
    "    rotation_range=180,\n",
    "    brightness_range=[0.5, 1.5],\n",
    "    shear_range=0.2,\n",
    "    zoom_range=0.2\n",
    ")\n",
    "\n",
    "test_image_gen = ImageDataGenerator(rescale=1./255)\n",
    "\n",
    "train_gen = train_image_gen.flow_from_dataframe(\n",
    "    train_df,\n",
    "    directory='./Images/',\n",
    "    x_col='image_file',\n",
    "    y_col='dx',\n",
    "    target_size=image_size,\n",
    "    class_mode='categorical',\n",
    "    batch_size=32\n",
    ")\n",
    "\n",
    "new_train_gen = new_train_image_gen.flow_from_dataframe(\n",
    "    train_df,\n",
    "    directory='./Images/',\n",
    "    x_col='image_file',\n",
    "    y_col='dx',\n",
    "    target_size=image_size,\n",
    "    class_mode='categorical',\n",
    "    batch_size=32\n",
    ")\n",
    "\n",
    "val_gen = train_image_gen.flow_from_dataframe(\n",
    "    val_df,\n",
    "    directory='./Images/',\n",
    "    x_col='image_file',\n",
    "    y_col='dx',\n",
    "    target_size=image_size,\n",
    "    class_mode='categorical',\n",
    "    batch_size=32\n",
    ")\n",
    "\n",
    "new_val_gen = new_train_image_gen.flow_from_dataframe(\n",
    "    val_df,\n",
    "    directory='./Images/',\n",
    "    x_col='image_file',\n",
    "    y_col='dx',\n",
    "    target_size=image_size,\n",
    "    class_mode='categorical',\n",
    "    batch_size=32\n",
    ")\n",
    "\n",
    "test_gen = test_image_gen.flow_from_dataframe(\n",
    "    test_df,\n",
    "    directory='./Images/',\n",
    "    x_col='image_file',\n",
    "    y_col='dx',\n",
    "    target_size=image_size,\n",
    "    class_mode='categorical',\n",
    "    batch_size=32,\n",
    "    shuffle=False\n",
    ")\n"
   ]
  },
  {
   "cell_type": "code",
   "execution_count": 61,
   "id": "bfe51fce-5630-41fe-ad65-0b1818c6434a",
   "metadata": {
    "scrolled": true
   },
   "outputs": [
    {
     "name": "stdout",
     "output_type": "stream",
     "text": [
      "     lesion_id      image_id   dx    dx_type   age     sex     localization\n",
      "0  HAM_0000550  ISIC_0024306   nv  follow_up  45.0    male            trunk\n",
      "1  HAM_0003577  ISIC_0024307   nv  follow_up  50.0    male  lower extremity\n",
      "2  HAM_0001477  ISIC_0024308   nv  follow_up  55.0  female            trunk\n",
      "3  HAM_0000484  ISIC_0024309   nv  follow_up  40.0    male            trunk\n",
      "4  HAM_0003350  ISIC_0024310  mel      histo  60.0    male            chest\n"
     ]
    },
    {
     "data": {
      "image/png": "[encoded data removed]",
      "text/plain": [
       "<Figure size 1000x600 with 1 Axes>"
      ]
     },
     "metadata": {},
     "output_type": "display_data"
    }
   ],
   "source": [
    "#1a\n",
    "metadata = pd.read_csv('./metadata.csv')\n",
    "print(metadata.head())\n",
    "\n",
    "# Get the lesion types\n",
    "lesion_types = metadata['dx']\n",
    "\n",
    "# Plot the histogram\n",
    "plt.figure(figsize=(10, 6))\n",
    "plt.hist(lesion_types, bins=len(lesion_types.unique()), edgecolor='black')\n",
    "plt.title('Histogram of Lesion Types')\n",
    "\n",
    "plt.xlabel('Lesion Type')\n",
    "plt.ylabel('Frequency')\n",
    "plt.xticks(rotation=45)\n",
    "plt.show()\n"
   ]
  },
  {
   "cell_type": "code",
   "execution_count": 62,
   "id": "c741a27d-7b3b-47c8-8255-b86102b14cf3",
   "metadata": {},
   "outputs": [
    {
     "name": "stdout",
     "output_type": "stream",
     "text": [
      "Most common lesion type: nv\n"
     ]
    }
   ],
   "source": [
    "# 1B: Create a classifier that always classifies the lesion as the most common occurring lesion\n",
    "most_common_lesion = lesion_types.mode()[0]\n",
    "print(f'Most common lesion type: {most_common_lesion}')\n",
    "\n",
    "# Split data into training and test sets\n",
    "train, test = train_test_split(metadata, test_size=0.2, random_state=42)\n",
    "\n",
    "# Classifier that always predicts the most common lesion\n",
    "y_pred = [most_common_lesion] * len(test)\n",
    "y_true = test['dx']\n"
   ]
  },
  {
   "cell_type": "code",
   "execution_count": 63,
   "id": "4baea486-0505-4b85-ba62-4d14f0104a0a",
   "metadata": {},
   "outputs": [
    {
     "name": "stdout",
     "output_type": "stream",
     "text": [
      "Accuracy: 0.6579\n"
     ]
    }
   ],
   "source": [
    "# 1C: Calculate the test accuracy of this classifier\n",
    "accuracy = accuracy_score(y_true, y_pred)\n",
    "print(f'Accuracy: {accuracy:.4f}')"
   ]
  },
  {
   "cell_type": "code",
   "execution_count": 64,
   "id": "0bc52a56-9e0a-4eee-8598-e3c98867f634",
   "metadata": {},
   "outputs": [
    {
     "name": "stdout",
     "output_type": "stream",
     "text": [
      "nv: Sensitivity = 0.0000, Specificity = nan\n",
      "mel: Sensitivity = 0.0000, Specificity = 0.8897\n",
      "bkl: Sensitivity = 0.0000, Specificity = 0.8918\n",
      "df: Sensitivity = 0.0000, Specificity = 0.9873\n",
      "akiec: Sensitivity = 0.0000, Specificity = 0.9630\n",
      "bcc: Sensitivity = 1.0000, Specificity = 0.9461\n",
      "vasc: Sensitivity = 0.0000, Specificity = 0.9799\n"
     ]
    },
    {
     "name": "stderr",
     "output_type": "stream",
     "text": [
      "/opt/anaconda3/lib/python3.11/site-packages/sklearn/metrics/_classification.py:1344: UndefinedMetricWarning: Precision and F-score are ill-defined and being set to 0.0 in labels with no predicted samples. Use `zero_division` parameter to control this behavior.\n",
      "  _warn_prf(average, modifier, msg_start, len(result))\n",
      "/opt/anaconda3/lib/python3.11/site-packages/sklearn/metrics/_classification.py:1344: UndefinedMetricWarning: Precision and F-score are ill-defined and being set to 0.0 in labels with no predicted samples. Use `zero_division` parameter to control this behavior.\n",
      "  _warn_prf(average, modifier, msg_start, len(result))\n",
      "/opt/anaconda3/lib/python3.11/site-packages/sklearn/metrics/_classification.py:1344: UndefinedMetricWarning: Precision and F-score are ill-defined and being set to 0.0 in labels with no predicted samples. Use `zero_division` parameter to control this behavior.\n",
      "  _warn_prf(average, modifier, msg_start, len(result))\n",
      "/var/folders/3y/88h70jc14nsgv71207t3cb000000gn/T/ipykernel_36863/1898238524.py:8: RuntimeWarning: invalid value encountered in long_scalars\n",
      "  specificity = (conf_matrix.sum() - conf_matrix[:, lesion_types.unique().tolist().index(lesion)].sum() - conf_matrix[lesion_types.unique().tolist().index(lesion)].sum() + conf_matrix[lesion_types.unique().tolist().index(lesion), lesion_types.unique().tolist().index(lesion)]) / (conf_matrix.sum() - conf_matrix[:, lesion_types.unique().tolist().index(lesion)].sum())\n"
     ]
    }
   ],
   "source": [
    "# 1D: Calculate the test sensitivity and specificity of this classifier for each class\n",
    "conf_matrix = confusion_matrix(y_true, y_pred, labels=lesion_types.unique())\n",
    "report = classification_report(y_true, y_pred, target_names=lesion_types.unique(), output_dict=True)\n",
    "\n",
    "sensitivity_specificity = {}\n",
    "for lesion in lesion_types.unique():\n",
    "    sensitivity = report[lesion]['recall']\n",
    "    specificity = (conf_matrix.sum() - conf_matrix[:, lesion_types.unique().tolist().index(lesion)].sum() - conf_matrix[lesion_types.unique().tolist().index(lesion)].sum() + conf_matrix[lesion_types.unique().tolist().index(lesion), lesion_types.unique().tolist().index(lesion)]) / (conf_matrix.sum() - conf_matrix[:, lesion_types.unique().tolist().index(lesion)].sum())\n",
    "    sensitivity_specificity[lesion] = {\n",
    "        'sensitivity': sensitivity,\n",
    "        'specificity': specificity\n",
    "    }\n",
    "\n",
    "# Print the sensitivity and specificity for each class\n",
    "for lesion, metrics in sensitivity_specificity.items():\n",
    "    print(f'{lesion}: Sensitivity = {metrics[\"sensitivity\"]:.4f}, Specificity = {metrics[\"specificity\"]:.4f}')"
   ]
  },
  {
   "cell_type": "code",
   "execution_count": 65,
   "id": "7cbcb2d0-657d-4526-bd94-cbddeeae3dee",
   "metadata": {},
   "outputs": [
    {
     "name": "stdout",
     "output_type": "stream",
     "text": [
      "Fitting 5 folds for each of 80 candidates, totalling 400 fits\n",
      "[CV 1/5] END max_depth=1, n_estimators=1;, score=(train=0.646, test=0.663) total time=   0.0s\n",
      "[CV 2/5] END max_depth=1, n_estimators=1;, score=(train=0.651, test=0.644) total time=   0.0s\n",
      "[CV 3/5] END max_depth=1, n_estimators=1;, score=(train=0.644, test=0.669) total time=   0.0s\n",
      "[CV 4/5] END max_depth=1, n_estimators=1;, score=(train=0.652, test=0.640) total time=   0.0s\n",
      "[CV 5/5] END max_depth=1, n_estimators=1;, score=(train=0.654, test=0.630) total time=   0.0s\n",
      "[CV 1/5] END max_depth=1, n_estimators=6;, score=(train=0.668, test=0.680) total time=   0.0s\n",
      "[CV 2/5] END max_depth=1, n_estimators=6;, score=(train=0.672, test=0.663) total time=   0.0s\n",
      "[CV 3/5] END max_depth=1, n_estimators=6;, score=(train=0.665, test=0.688) total time=   0.0s\n",
      "[CV 4/5] END max_depth=1, n_estimators=6;, score=(train=0.672, test=0.661) total time=   0.0s\n",
      "[CV 5/5] END max_depth=1, n_estimators=6;, score=(train=0.673, test=0.658) total time=   0.0s\n",
      "[CV 1/5] END max_depth=1, n_estimators=11;, score=(train=0.671, test=0.685) total time=   0.0s\n",
      "[CV 2/5] END max_depth=1, n_estimators=11;, score=(train=0.675, test=0.668) total time=   0.0s\n",
      "[CV 3/5] END max_depth=1, n_estimators=11;, score=(train=0.665, test=0.688) total time=   0.0s\n",
      "[CV 4/5] END max_depth=1, n_estimators=11;, score=(train=0.672, test=0.661) total time=   0.0s\n",
      "[CV 5/5] END max_depth=1, n_estimators=11;, score=(train=0.673, test=0.658) total time=   0.0s\n",
      "[CV 1/5] END max_depth=1, n_estimators=16;, score=(train=0.671, test=0.685) total time=   0.1s\n",
      "[CV 2/5] END max_depth=1, n_estimators=16;, score=(train=0.675, test=0.668) total time=   0.0s\n",
      "[CV 3/5] END max_depth=1, n_estimators=16;, score=(train=0.670, test=0.689) total time=   0.0s\n",
      "[CV 4/5] END max_depth=1, n_estimators=16;, score=(train=0.676, test=0.664) total time=   0.1s\n",
      "[CV 5/5] END max_depth=1, n_estimators=16;, score=(train=0.677, test=0.662) total time=   0.0s\n",
      "[CV 1/5] END max_depth=1, n_estimators=21;, score=(train=0.671, test=0.685) total time=   0.1s\n",
      "[CV 2/5] END max_depth=1, n_estimators=21;, score=(train=0.675, test=0.668) total time=   0.1s\n",
      "[CV 3/5] END max_depth=1, n_estimators=21;, score=(train=0.670, test=0.689) total time=   0.1s\n",
      "[CV 4/5] END max_depth=1, n_estimators=21;, score=(train=0.676, test=0.664) total time=   0.1s\n",
      "[CV 5/5] END max_depth=1, n_estimators=21;, score=(train=0.677, test=0.662) total time=   0.1s\n",
      "[CV 1/5] END max_depth=1, n_estimators=26;, score=(train=0.671, test=0.685) total time=   0.1s\n",
      "[CV 2/5] END max_depth=1, n_estimators=26;, score=(train=0.675, test=0.668) total time=   0.1s\n",
      "[CV 3/5] END max_depth=1, n_estimators=26;, score=(train=0.670, test=0.689) total time=   0.1s\n",
      "[CV 4/5] END max_depth=1, n_estimators=26;, score=(train=0.676, test=0.664) total time=   0.1s\n",
      "[CV 5/5] END max_depth=1, n_estimators=26;, score=(train=0.677, test=0.662) total time=   0.1s\n",
      "[CV 1/5] END max_depth=1, n_estimators=31;, score=(train=0.671, test=0.685) total time=   0.1s\n",
      "[CV 2/5] END max_depth=1, n_estimators=31;, score=(train=0.675, test=0.668) total time=   0.1s\n",
      "[CV 3/5] END max_depth=1, n_estimators=31;, score=(train=0.670, test=0.689) total time=   0.1s\n",
      "[CV 4/5] END max_depth=1, n_estimators=31;, score=(train=0.676, test=0.664) total time=   0.1s\n",
      "[CV 5/5] END max_depth=1, n_estimators=31;, score=(train=0.677, test=0.662) total time=   0.1s\n",
      "[CV 1/5] END max_depth=1, n_estimators=36;, score=(train=0.671, test=0.685) total time=   0.1s\n",
      "[CV 2/5] END max_depth=1, n_estimators=36;, score=(train=0.675, test=0.668) total time=   0.1s\n",
      "[CV 3/5] END max_depth=1, n_estimators=36;, score=(train=0.670, test=0.689) total time=   0.1s\n",
      "[CV 4/5] END max_depth=1, n_estimators=36;, score=(train=0.676, test=0.664) total time=   0.1s\n",
      "[CV 5/5] END max_depth=1, n_estimators=36;, score=(train=0.677, test=0.662) total time=   0.1s\n",
      "[CV 1/5] END max_depth=1, n_estimators=41;, score=(train=0.671, test=0.685) total time=   0.2s\n",
      "[CV 2/5] END max_depth=1, n_estimators=41;, score=(train=0.675, test=0.668) total time=   0.1s\n",
      "[CV 3/5] END max_depth=1, n_estimators=41;, score=(train=0.670, test=0.689) total time=   0.1s\n",
      "[CV 4/5] END max_depth=1, n_estimators=41;, score=(train=0.676, test=0.664) total time=   0.1s\n",
      "[CV 5/5] END max_depth=1, n_estimators=41;, score=(train=0.677, test=0.662) total time=   0.1s\n",
      "[CV 1/5] END max_depth=1, n_estimators=46;, score=(train=0.671, test=0.685) total time=   0.2s\n",
      "[CV 2/5] END max_depth=1, n_estimators=46;, score=(train=0.675, test=0.668) total time=   0.2s\n",
      "[CV 3/5] END max_depth=1, n_estimators=46;, score=(train=0.670, test=0.689) total time=   0.1s\n",
      "[CV 4/5] END max_depth=1, n_estimators=46;, score=(train=0.676, test=0.664) total time=   0.1s\n",
      "[CV 5/5] END max_depth=1, n_estimators=46;, score=(train=0.677, test=0.662) total time=   0.2s\n",
      "[CV 1/5] END max_depth=6, n_estimators=1;, score=(train=0.642, test=0.658) total time=   0.0s\n",
      "[CV 2/5] END max_depth=6, n_estimators=1;, score=(train=0.647, test=0.640) total time=   0.0s\n",
      "[CV 3/5] END max_depth=6, n_estimators=1;, score=(train=0.604, test=0.631) total time=   0.0s\n",
      "[CV 4/5] END max_depth=6, n_estimators=1;, score=(train=0.648, test=0.637) total time=   0.0s\n",
      "[CV 5/5] END max_depth=6, n_estimators=1;, score=(train=0.637, test=0.614) total time=   0.0s\n",
      "[CV 1/5] END max_depth=6, n_estimators=6;, score=(train=0.633, test=0.644) total time=   0.0s\n",
      "[CV 2/5] END max_depth=6, n_estimators=6;, score=(train=0.636, test=0.632) total time=   0.0s\n",
      "[CV 3/5] END max_depth=6, n_estimators=6;, score=(train=0.630, test=0.656) total time=   0.0s\n",
      "[CV 4/5] END max_depth=6, n_estimators=6;, score=(train=0.637, test=0.626) total time=   0.0s\n",
      "[CV 5/5] END max_depth=6, n_estimators=6;, score=(train=0.640, test=0.618) total time=   0.0s\n",
      "[CV 1/5] END max_depth=6, n_estimators=11;, score=(train=0.633, test=0.644) total time=   0.0s\n",
      "[CV 2/5] END max_depth=6, n_estimators=11;, score=(train=0.636, test=0.632) total time=   0.0s\n",
      "[CV 3/5] END max_depth=6, n_estimators=11;, score=(train=0.630, test=0.656) total time=   0.0s\n",
      "[CV 4/5] END max_depth=6, n_estimators=11;, score=(train=0.637, test=0.626) total time=   0.0s\n",
      "[CV 5/5] END max_depth=6, n_estimators=11;, score=(train=0.640, test=0.618) total time=   0.1s\n",
      "[CV 1/5] END max_depth=6, n_estimators=16;, score=(train=0.633, test=0.644) total time=   0.0s\n",
      "[CV 2/5] END max_depth=6, n_estimators=16;, score=(train=0.636, test=0.632) total time=   0.1s\n",
      "[CV 3/5] END max_depth=6, n_estimators=16;, score=(train=0.630, test=0.656) total time=   0.1s\n",
      "[CV 4/5] END max_depth=6, n_estimators=16;, score=(train=0.637, test=0.626) total time=   0.1s\n",
      "[CV 5/5] END max_depth=6, n_estimators=16;, score=(train=0.640, test=0.618) total time=   0.0s\n",
      "[CV 1/5] END max_depth=6, n_estimators=21;, score=(train=0.633, test=0.644) total time=   0.1s\n",
      "[CV 2/5] END max_depth=6, n_estimators=21;, score=(train=0.636, test=0.632) total time=   0.1s\n",
      "[CV 3/5] END max_depth=6, n_estimators=21;, score=(train=0.630, test=0.656) total time=   0.1s\n",
      "[CV 4/5] END max_depth=6, n_estimators=21;, score=(train=0.637, test=0.626) total time=   0.1s\n",
      "[CV 5/5] END max_depth=6, n_estimators=21;, score=(train=0.640, test=0.618) total time=   0.1s\n",
      "[CV 1/5] END max_depth=6, n_estimators=26;, score=(train=0.618, test=0.628) total time=   0.1s\n",
      "[CV 2/5] END max_depth=6, n_estimators=26;, score=(train=0.636, test=0.632) total time=   0.1s\n",
      "[CV 3/5] END max_depth=6, n_estimators=26;, score=(train=0.630, test=0.656) total time=   0.1s\n",
      "[CV 4/5] END max_depth=6, n_estimators=26;, score=(train=0.637, test=0.626) total time=   0.1s\n",
      "[CV 5/5] END max_depth=6, n_estimators=26;, score=(train=0.640, test=0.618) total time=   0.1s\n",
      "[CV 1/5] END max_depth=6, n_estimators=31;, score=(train=0.609, test=0.621) total time=   0.1s\n",
      "[CV 2/5] END max_depth=6, n_estimators=31;, score=(train=0.636, test=0.632) total time=   0.1s\n",
      "[CV 3/5] END max_depth=6, n_estimators=31;, score=(train=0.630, test=0.656) total time=   0.1s\n",
      "[CV 4/5] END max_depth=6, n_estimators=31;, score=(train=0.615, test=0.599) total time=   0.1s\n",
      "[CV 5/5] END max_depth=6, n_estimators=31;, score=(train=0.640, test=0.618) total time=   0.1s\n",
      "[CV 1/5] END max_depth=6, n_estimators=36;, score=(train=0.609, test=0.621) total time=   0.1s\n",
      "[CV 2/5] END max_depth=6, n_estimators=36;, score=(train=0.636, test=0.632) total time=   0.1s\n",
      "[CV 3/5] END max_depth=6, n_estimators=36;, score=(train=0.630, test=0.656) total time=   0.2s\n",
      "[CV 4/5] END max_depth=6, n_estimators=36;, score=(train=0.615, test=0.599) total time=   0.1s\n",
      "[CV 5/5] END max_depth=6, n_estimators=36;, score=(train=0.640, test=0.618) total time=   0.2s\n",
      "[CV 1/5] END max_depth=6, n_estimators=41;, score=(train=0.609, test=0.621) total time=   0.2s\n",
      "[CV 2/5] END max_depth=6, n_estimators=41;, score=(train=0.636, test=0.632) total time=   0.1s\n",
      "[CV 3/5] END max_depth=6, n_estimators=41;, score=(train=0.606, test=0.632) total time=   0.1s\n",
      "[CV 4/5] END max_depth=6, n_estimators=41;, score=(train=0.615, test=0.599) total time=   0.2s\n",
      "[CV 5/5] END max_depth=6, n_estimators=41;, score=(train=0.640, test=0.618) total time=   0.2s\n",
      "[CV 1/5] END max_depth=6, n_estimators=46;, score=(train=0.609, test=0.621) total time=   0.1s\n",
      "[CV 2/5] END max_depth=6, n_estimators=46;, score=(train=0.621, test=0.615) total time=   0.2s\n",
      "[CV 3/5] END max_depth=6, n_estimators=46;, score=(train=0.606, test=0.632) total time=   0.2s\n",
      "[CV 4/5] END max_depth=6, n_estimators=46;, score=(train=0.615, test=0.599) total time=   0.1s\n",
      "[CV 5/5] END max_depth=6, n_estimators=46;, score=(train=0.640, test=0.618) total time=   0.1s\n",
      "[CV 1/5] END max_depth=11, n_estimators=1;, score=(train=0.609, test=0.621) total time=   0.0s\n",
      "[CV 2/5] END max_depth=11, n_estimators=1;, score=(train=0.622, test=0.619) total time=   0.0s\n",
      "[CV 3/5] END max_depth=11, n_estimators=1;, score=(train=0.594, test=0.619) total time=   0.0s\n",
      "[CV 4/5] END max_depth=11, n_estimators=1;, score=(train=0.637, test=0.626) total time=   0.0s\n",
      "[CV 5/5] END max_depth=11, n_estimators=1;, score=(train=0.594, test=0.567) total time=   0.0s\n",
      "[CV 1/5] END max_depth=11, n_estimators=6;, score=(train=0.574, test=0.580) total time=   0.0s\n",
      "[CV 2/5] END max_depth=11, n_estimators=6;, score=(train=0.607, test=0.603) total time=   0.0s\n",
      "[CV 3/5] END max_depth=11, n_estimators=6;, score=(train=0.584, test=0.609) total time=   0.0s\n",
      "[CV 4/5] END max_depth=11, n_estimators=6;, score=(train=0.593, test=0.573) total time=   0.0s\n",
      "[CV 5/5] END max_depth=11, n_estimators=6;, score=(train=0.593, test=0.571) total time=   0.0s\n",
      "[CV 1/5] END max_depth=11, n_estimators=11;, score=(train=0.586, test=0.599) total time=   0.1s\n",
      "[CV 2/5] END max_depth=11, n_estimators=11;, score=(train=0.612, test=0.610) total time=   0.1s\n",
      "[CV 3/5] END max_depth=11, n_estimators=11;, score=(train=0.584, test=0.609) total time=   0.0s\n",
      "[CV 4/5] END max_depth=11, n_estimators=11;, score=(train=0.593, test=0.573) total time=   0.0s\n",
      "[CV 5/5] END max_depth=11, n_estimators=11;, score=(train=0.593, test=0.571) total time=   0.0s\n",
      "[CV 1/5] END max_depth=11, n_estimators=16;, score=(train=0.586, test=0.599) total time=   0.1s\n",
      "[CV 2/5] END max_depth=11, n_estimators=16;, score=(train=0.612, test=0.610) total time=   0.1s\n",
      "[CV 3/5] END max_depth=11, n_estimators=16;, score=(train=0.584, test=0.609) total time=   0.1s\n",
      "[CV 4/5] END max_depth=11, n_estimators=16;, score=(train=0.615, test=0.599) total time=   0.1s\n",
      "[CV 5/5] END max_depth=11, n_estimators=16;, score=(train=0.593, test=0.571) total time=   0.1s\n",
      "[CV 1/5] END max_depth=11, n_estimators=21;, score=(train=0.574, test=0.580) total time=   0.1s\n",
      "[CV 2/5] END max_depth=11, n_estimators=21;, score=(train=0.598, test=0.597) total time=   0.1s\n",
      "[CV 3/5] END max_depth=11, n_estimators=21;, score=(train=0.584, test=0.609) total time=   0.1s\n",
      "[CV 4/5] END max_depth=11, n_estimators=21;, score=(train=0.615, test=0.599) total time=   0.1s\n",
      "[CV 5/5] END max_depth=11, n_estimators=21;, score=(train=0.616, test=0.596) total time=   0.1s\n",
      "[CV 1/5] END max_depth=11, n_estimators=26;, score=(train=0.574, test=0.580) total time=   0.1s\n",
      "[CV 2/5] END max_depth=11, n_estimators=26;, score=(train=0.598, test=0.597) total time=   0.1s\n",
      "[CV 3/5] END max_depth=11, n_estimators=26;, score=(train=0.584, test=0.609) total time=   0.1s\n",
      "[CV 4/5] END max_depth=11, n_estimators=26;, score=(train=0.615, test=0.599) total time=   0.1s\n",
      "[CV 5/5] END max_depth=11, n_estimators=26;, score=(train=0.593, test=0.571) total time=   0.1s\n",
      "[CV 1/5] END max_depth=11, n_estimators=31;, score=(train=0.574, test=0.580) total time=   0.1s\n",
      "[CV 2/5] END max_depth=11, n_estimators=31;, score=(train=0.612, test=0.610) total time=   0.1s\n",
      "[CV 3/5] END max_depth=11, n_estimators=31;, score=(train=0.584, test=0.609) total time=   0.1s\n",
      "[CV 4/5] END max_depth=11, n_estimators=31;, score=(train=0.593, test=0.573) total time=   0.1s\n",
      "[CV 5/5] END max_depth=11, n_estimators=31;, score=(train=0.593, test=0.571) total time=   0.1s\n",
      "[CV 1/5] END max_depth=11, n_estimators=36;, score=(train=0.586, test=0.599) total time=   0.1s\n",
      "[CV 2/5] END max_depth=11, n_estimators=36;, score=(train=0.598, test=0.597) total time=   0.1s\n",
      "[CV 3/5] END max_depth=11, n_estimators=36;, score=(train=0.584, test=0.609) total time=   0.1s\n",
      "[CV 4/5] END max_depth=11, n_estimators=36;, score=(train=0.615, test=0.599) total time=   0.2s\n",
      "[CV 5/5] END max_depth=11, n_estimators=36;, score=(train=0.616, test=0.596) total time=   0.1s\n",
      "[CV 1/5] END max_depth=11, n_estimators=41;, score=(train=0.574, test=0.580) total time=   0.2s\n",
      "[CV 2/5] END max_depth=11, n_estimators=41;, score=(train=0.598, test=0.597) total time=   0.2s\n",
      "[CV 3/5] END max_depth=11, n_estimators=41;, score=(train=0.584, test=0.609) total time=   0.1s\n",
      "[CV 4/5] END max_depth=11, n_estimators=41;, score=(train=0.615, test=0.599) total time=   0.1s\n",
      "[CV 5/5] END max_depth=11, n_estimators=41;, score=(train=0.616, test=0.596) total time=   0.2s\n",
      "[CV 1/5] END max_depth=11, n_estimators=46;, score=(train=0.574, test=0.580) total time=   0.2s\n",
      "[CV 2/5] END max_depth=11, n_estimators=46;, score=(train=0.598, test=0.597) total time=   0.2s\n",
      "[CV 3/5] END max_depth=11, n_estimators=46;, score=(train=0.584, test=0.609) total time=   0.2s\n",
      "[CV 4/5] END max_depth=11, n_estimators=46;, score=(train=0.615, test=0.599) total time=   0.1s\n",
      "[CV 5/5] END max_depth=11, n_estimators=46;, score=(train=0.616, test=0.596) total time=   0.2s\n",
      "[CV 1/5] END max_depth=16, n_estimators=1;, score=(train=0.609, test=0.621) total time=   0.0s\n",
      "[CV 2/5] END max_depth=16, n_estimators=1;, score=(train=0.598, test=0.597) total time=   0.0s\n",
      "[CV 3/5] END max_depth=16, n_estimators=1;, score=(train=0.570, test=0.595) total time=   0.0s\n",
      "[CV 4/5] END max_depth=16, n_estimators=1;, score=(train=0.615, test=0.598) total time=   0.0s\n",
      "[CV 5/5] END max_depth=16, n_estimators=1;, score=(train=0.589, test=0.558) total time=   0.0s\n",
      "[CV 1/5] END max_depth=16, n_estimators=6;, score=(train=0.574, test=0.580) total time=   0.0s\n",
      "[CV 2/5] END max_depth=16, n_estimators=6;, score=(train=0.598, test=0.597) total time=   0.0s\n",
      "[CV 3/5] END max_depth=16, n_estimators=6;, score=(train=0.584, test=0.609) total time=   0.0s\n",
      "[CV 4/5] END max_depth=16, n_estimators=6;, score=(train=0.593, test=0.573) total time=   0.0s\n",
      "[CV 5/5] END max_depth=16, n_estimators=6;, score=(train=0.578, test=0.548) total time=   0.0s\n",
      "[CV 1/5] END max_depth=16, n_estimators=11;, score=(train=0.574, test=0.580) total time=   0.0s\n",
      "[CV 2/5] END max_depth=16, n_estimators=11;, score=(train=0.598, test=0.597) total time=   0.1s\n",
      "[CV 3/5] END max_depth=16, n_estimators=11;, score=(train=0.584, test=0.609) total time=   0.0s\n",
      "[CV 4/5] END max_depth=16, n_estimators=11;, score=(train=0.593, test=0.573) total time=   0.0s\n",
      "[CV 5/5] END max_depth=16, n_estimators=11;, score=(train=0.578, test=0.549) total time=   0.0s\n",
      "[CV 1/5] END max_depth=16, n_estimators=16;, score=(train=0.574, test=0.580) total time=   0.1s\n",
      "[CV 2/5] END max_depth=16, n_estimators=16;, score=(train=0.598, test=0.597) total time=   0.1s\n",
      "[CV 3/5] END max_depth=16, n_estimators=16;, score=(train=0.584, test=0.609) total time=   0.1s\n",
      "[CV 4/5] END max_depth=16, n_estimators=16;, score=(train=0.593, test=0.573) total time=   0.1s\n",
      "[CV 5/5] END max_depth=16, n_estimators=16;, score=(train=0.579, test=0.559) total time=   0.1s\n",
      "[CV 1/5] END max_depth=16, n_estimators=21;, score=(train=0.574, test=0.580) total time=   0.1s\n",
      "[CV 2/5] END max_depth=16, n_estimators=21;, score=(train=0.598, test=0.597) total time=   0.1s\n",
      "[CV 3/5] END max_depth=16, n_estimators=21;, score=(train=0.570, test=0.595) total time=   0.1s\n",
      "[CV 4/5] END max_depth=16, n_estimators=21;, score=(train=0.593, test=0.573) total time=   0.1s\n",
      "[CV 5/5] END max_depth=16, n_estimators=21;, score=(train=0.579, test=0.559) total time=   0.1s\n",
      "[CV 1/5] END max_depth=16, n_estimators=26;, score=(train=0.574, test=0.580) total time=   0.1s\n",
      "[CV 2/5] END max_depth=16, n_estimators=26;, score=(train=0.598, test=0.597) total time=   0.1s\n",
      "[CV 3/5] END max_depth=16, n_estimators=26;, score=(train=0.570, test=0.595) total time=   0.1s\n",
      "[CV 4/5] END max_depth=16, n_estimators=26;, score=(train=0.593, test=0.573) total time=   0.1s\n",
      "[CV 5/5] END max_depth=16, n_estimators=26;, score=(train=0.593, test=0.571) total time=   0.1s\n",
      "[CV 1/5] END max_depth=16, n_estimators=31;, score=(train=0.574, test=0.580) total time=   0.1s\n",
      "[CV 2/5] END max_depth=16, n_estimators=31;, score=(train=0.598, test=0.597) total time=   0.1s\n",
      "[CV 3/5] END max_depth=16, n_estimators=31;, score=(train=0.570, test=0.595) total time=   0.1s\n",
      "[CV 4/5] END max_depth=16, n_estimators=31;, score=(train=0.593, test=0.573) total time=   0.2s\n",
      "[CV 5/5] END max_depth=16, n_estimators=31;, score=(train=0.593, test=0.571) total time=   0.1s\n",
      "[CV 1/5] END max_depth=16, n_estimators=36;, score=(train=0.574, test=0.580) total time=   0.2s\n",
      "[CV 2/5] END max_depth=16, n_estimators=36;, score=(train=0.598, test=0.597) total time=   0.1s\n",
      "[CV 3/5] END max_depth=16, n_estimators=36;, score=(train=0.570, test=0.595) total time=   0.1s\n",
      "[CV 4/5] END max_depth=16, n_estimators=36;, score=(train=0.593, test=0.573) total time=   0.2s\n",
      "[CV 5/5] END max_depth=16, n_estimators=36;, score=(train=0.579, test=0.559) total time=   0.2s\n",
      "[CV 1/5] END max_depth=16, n_estimators=41;, score=(train=0.574, test=0.580) total time=   0.1s\n",
      "[CV 2/5] END max_depth=16, n_estimators=41;, score=(train=0.598, test=0.597) total time=   0.2s\n",
      "[CV 3/5] END max_depth=16, n_estimators=41;, score=(train=0.570, test=0.595) total time=   0.3s\n",
      "[CV 4/5] END max_depth=16, n_estimators=41;, score=(train=0.593, test=0.573) total time=   0.2s\n",
      "[CV 5/5] END max_depth=16, n_estimators=41;, score=(train=0.579, test=0.559) total time=   0.1s\n",
      "[CV 1/5] END max_depth=16, n_estimators=46;, score=(train=0.574, test=0.580) total time=   0.2s\n",
      "[CV 2/5] END max_depth=16, n_estimators=46;, score=(train=0.598, test=0.597) total time=   0.2s\n",
      "[CV 3/5] END max_depth=16, n_estimators=46;, score=(train=0.570, test=0.595) total time=   0.2s\n",
      "[CV 4/5] END max_depth=16, n_estimators=46;, score=(train=0.593, test=0.573) total time=   0.2s\n",
      "[CV 5/5] END max_depth=16, n_estimators=46;, score=(train=0.579, test=0.559) total time=   0.2s\n",
      "[CV 1/5] END max_depth=21, n_estimators=1;, score=(train=0.609, test=0.621) total time=   0.0s\n",
      "[CV 2/5] END max_depth=21, n_estimators=1;, score=(train=0.598, test=0.597) total time=   0.0s\n",
      "[CV 3/5] END max_depth=21, n_estimators=1;, score=(train=0.569, test=0.593) total time=   0.0s\n",
      "[CV 4/5] END max_depth=21, n_estimators=1;, score=(train=0.615, test=0.598) total time=   0.0s\n",
      "[CV 5/5] END max_depth=21, n_estimators=1;, score=(train=0.586, test=0.559) total time=   0.0s\n",
      "[CV 1/5] END max_depth=21, n_estimators=6;, score=(train=0.574, test=0.580) total time=   0.0s\n",
      "[CV 2/5] END max_depth=21, n_estimators=6;, score=(train=0.598, test=0.597) total time=   0.0s\n",
      "[CV 3/5] END max_depth=21, n_estimators=6;, score=(train=0.553, test=0.578) total time=   0.0s\n",
      "[CV 4/5] END max_depth=21, n_estimators=6;, score=(train=0.592, test=0.573) total time=   0.0s\n",
      "[CV 5/5] END max_depth=21, n_estimators=6;, score=(train=0.577, test=0.546) total time=   0.0s\n",
      "[CV 1/5] END max_depth=21, n_estimators=11;, score=(train=0.574, test=0.580) total time=   0.0s\n",
      "[CV 2/5] END max_depth=21, n_estimators=11;, score=(train=0.598, test=0.597) total time=   0.0s\n",
      "[CV 3/5] END max_depth=21, n_estimators=11;, score=(train=0.553, test=0.578) total time=   0.1s\n",
      "[CV 4/5] END max_depth=21, n_estimators=11;, score=(train=0.593, test=0.573) total time=   0.0s\n",
      "[CV 5/5] END max_depth=21, n_estimators=11;, score=(train=0.577, test=0.546) total time=   0.0s\n",
      "[CV 1/5] END max_depth=21, n_estimators=16;, score=(train=0.574, test=0.580) total time=   0.1s\n",
      "[CV 2/5] END max_depth=21, n_estimators=16;, score=(train=0.598, test=0.597) total time=   0.1s\n",
      "[CV 3/5] END max_depth=21, n_estimators=16;, score=(train=0.569, test=0.594) total time=   0.1s\n",
      "[CV 4/5] END max_depth=21, n_estimators=16;, score=(train=0.593, test=0.573) total time=   0.1s\n",
      "[CV 5/5] END max_depth=21, n_estimators=16;, score=(train=0.563, test=0.536) total time=   0.1s\n",
      "[CV 1/5] END max_depth=21, n_estimators=21;, score=(train=0.574, test=0.580) total time=   0.1s\n",
      "[CV 2/5] END max_depth=21, n_estimators=21;, score=(train=0.598, test=0.597) total time=   0.1s\n",
      "[CV 3/5] END max_depth=21, n_estimators=21;, score=(train=0.553, test=0.578) total time=   0.1s\n",
      "[CV 4/5] END max_depth=21, n_estimators=21;, score=(train=0.593, test=0.573) total time=   0.1s\n",
      "[CV 5/5] END max_depth=21, n_estimators=21;, score=(train=0.564, test=0.537) total time=   0.2s\n",
      "[CV 1/5] END max_depth=21, n_estimators=26;, score=(train=0.574, test=0.580) total time=   0.1s\n",
      "[CV 2/5] END max_depth=21, n_estimators=26;, score=(train=0.598, test=0.597) total time=   0.1s\n",
      "[CV 3/5] END max_depth=21, n_estimators=26;, score=(train=0.569, test=0.594) total time=   0.1s\n",
      "[CV 4/5] END max_depth=21, n_estimators=26;, score=(train=0.593, test=0.573) total time=   0.1s\n",
      "[CV 5/5] END max_depth=21, n_estimators=26;, score=(train=0.578, test=0.549) total time=   0.1s\n",
      "[CV 1/5] END max_depth=21, n_estimators=31;, score=(train=0.574, test=0.580) total time=   0.1s\n",
      "[CV 2/5] END max_depth=21, n_estimators=31;, score=(train=0.598, test=0.597) total time=   0.1s\n",
      "[CV 3/5] END max_depth=21, n_estimators=31;, score=(train=0.569, test=0.594) total time=   0.2s\n",
      "[CV 4/5] END max_depth=21, n_estimators=31;, score=(train=0.593, test=0.573) total time=   0.1s\n",
      "[CV 5/5] END max_depth=21, n_estimators=31;, score=(train=0.578, test=0.549) total time=   0.1s\n",
      "[CV 1/5] END max_depth=21, n_estimators=36;, score=(train=0.574, test=0.580) total time=   0.2s\n",
      "[CV 2/5] END max_depth=21, n_estimators=36;, score=(train=0.598, test=0.597) total time=   0.1s\n",
      "[CV 3/5] END max_depth=21, n_estimators=36;, score=(train=0.569, test=0.594) total time=   0.1s\n",
      "[CV 4/5] END max_depth=21, n_estimators=36;, score=(train=0.593, test=0.573) total time=   0.2s\n",
      "[CV 5/5] END max_depth=21, n_estimators=36;, score=(train=0.564, test=0.537) total time=   0.1s\n",
      "[CV 1/5] END max_depth=21, n_estimators=41;, score=(train=0.574, test=0.580) total time=   0.2s\n",
      "[CV 2/5] END max_depth=21, n_estimators=41;, score=(train=0.598, test=0.597) total time=   0.2s\n",
      "[CV 3/5] END max_depth=21, n_estimators=41;, score=(train=0.569, test=0.594) total time=   0.2s\n",
      "[CV 4/5] END max_depth=21, n_estimators=41;, score=(train=0.593, test=0.573) total time=   0.1s\n",
      "[CV 5/5] END max_depth=21, n_estimators=41;, score=(train=0.564, test=0.536) total time=   0.2s\n",
      "[CV 1/5] END max_depth=21, n_estimators=46;, score=(train=0.574, test=0.580) total time=   0.2s\n",
      "[CV 2/5] END max_depth=21, n_estimators=46;, score=(train=0.598, test=0.597) total time=   0.2s\n",
      "[CV 3/5] END max_depth=21, n_estimators=46;, score=(train=0.569, test=0.594) total time=   0.2s\n",
      "[CV 4/5] END max_depth=21, n_estimators=46;, score=(train=0.578, test=0.562) total time=   0.2s\n",
      "[CV 5/5] END max_depth=21, n_estimators=46;, score=(train=0.564, test=0.536) total time=   0.2s\n",
      "[CV 1/5] END max_depth=26, n_estimators=1;, score=(train=0.609, test=0.621) total time=   0.0s\n",
      "[CV 2/5] END max_depth=26, n_estimators=1;, score=(train=0.598, test=0.597) total time=   0.0s\n",
      "[CV 3/5] END max_depth=26, n_estimators=1;, score=(train=0.569, test=0.593) total time=   0.0s\n",
      "[CV 4/5] END max_depth=26, n_estimators=1;, score=(train=0.615, test=0.598) total time=   0.0s\n",
      "[CV 5/5] END max_depth=26, n_estimators=1;, score=(train=0.586, test=0.559) total time=   0.0s\n",
      "[CV 1/5] END max_depth=26, n_estimators=6;, score=(train=0.574, test=0.580) total time=   0.0s\n",
      "[CV 2/5] END max_depth=26, n_estimators=6;, score=(train=0.598, test=0.597) total time=   0.0s\n",
      "[CV 3/5] END max_depth=26, n_estimators=6;, score=(train=0.553, test=0.578) total time=   0.0s\n",
      "[CV 4/5] END max_depth=26, n_estimators=6;, score=(train=0.592, test=0.573) total time=   0.0s\n",
      "[CV 5/5] END max_depth=26, n_estimators=6;, score=(train=0.577, test=0.546) total time=   0.0s\n",
      "[CV 1/5] END max_depth=26, n_estimators=11;, score=(train=0.574, test=0.580) total time=   0.1s\n",
      "[CV 2/5] END max_depth=26, n_estimators=11;, score=(train=0.598, test=0.597) total time=   0.1s\n",
      "[CV 3/5] END max_depth=26, n_estimators=11;, score=(train=0.553, test=0.578) total time=   0.0s\n",
      "[CV 4/5] END max_depth=26, n_estimators=11;, score=(train=0.593, test=0.573) total time=   0.0s\n",
      "[CV 5/5] END max_depth=26, n_estimators=11;, score=(train=0.577, test=0.546) total time=   0.0s\n",
      "[CV 1/5] END max_depth=26, n_estimators=16;, score=(train=0.574, test=0.580) total time=   0.1s\n",
      "[CV 2/5] END max_depth=26, n_estimators=16;, score=(train=0.598, test=0.597) total time=   0.1s\n",
      "[CV 3/5] END max_depth=26, n_estimators=16;, score=(train=0.569, test=0.594) total time=   0.1s\n",
      "[CV 4/5] END max_depth=26, n_estimators=16;, score=(train=0.593, test=0.573) total time=   0.1s\n",
      "[CV 5/5] END max_depth=26, n_estimators=16;, score=(train=0.563, test=0.536) total time=   0.1s\n",
      "[CV 1/5] END max_depth=26, n_estimators=21;, score=(train=0.574, test=0.580) total time=   0.1s\n",
      "[CV 2/5] END max_depth=26, n_estimators=21;, score=(train=0.598, test=0.597) total time=   0.1s\n",
      "[CV 3/5] END max_depth=26, n_estimators=21;, score=(train=0.553, test=0.578) total time=   0.1s\n",
      "[CV 4/5] END max_depth=26, n_estimators=21;, score=(train=0.593, test=0.573) total time=   0.1s\n",
      "[CV 5/5] END max_depth=26, n_estimators=21;, score=(train=0.564, test=0.537) total time=   0.1s\n",
      "[CV 1/5] END max_depth=26, n_estimators=26;, score=(train=0.574, test=0.580) total time=   0.1s\n",
      "[CV 2/5] END max_depth=26, n_estimators=26;, score=(train=0.598, test=0.597) total time=   0.1s\n",
      "[CV 3/5] END max_depth=26, n_estimators=26;, score=(train=0.569, test=0.594) total time=   0.1s\n",
      "[CV 4/5] END max_depth=26, n_estimators=26;, score=(train=0.593, test=0.573) total time=   0.1s\n",
      "[CV 5/5] END max_depth=26, n_estimators=26;, score=(train=0.578, test=0.549) total time=   0.1s\n",
      "[CV 1/5] END max_depth=26, n_estimators=31;, score=(train=0.574, test=0.580) total time=   0.1s\n",
      "[CV 2/5] END max_depth=26, n_estimators=31;, score=(train=0.598, test=0.597) total time=   0.1s\n",
      "[CV 3/5] END max_depth=26, n_estimators=31;, score=(train=0.569, test=0.594) total time=   0.1s\n",
      "[CV 4/5] END max_depth=26, n_estimators=31;, score=(train=0.593, test=0.573) total time=   0.2s\n",
      "[CV 5/5] END max_depth=26, n_estimators=31;, score=(train=0.578, test=0.549) total time=   0.1s\n",
      "[CV 1/5] END max_depth=26, n_estimators=36;, score=(train=0.574, test=0.580) total time=   0.1s\n",
      "[CV 2/5] END max_depth=26, n_estimators=36;, score=(train=0.598, test=0.597) total time=   0.2s\n",
      "[CV 3/5] END max_depth=26, n_estimators=36;, score=(train=0.569, test=0.594) total time=   0.1s\n",
      "[CV 4/5] END max_depth=26, n_estimators=36;, score=(train=0.593, test=0.573) total time=   0.1s\n",
      "[CV 5/5] END max_depth=26, n_estimators=36;, score=(train=0.564, test=0.537) total time=   0.2s\n",
      "[CV 1/5] END max_depth=26, n_estimators=41;, score=(train=0.574, test=0.580) total time=   0.1s\n",
      "[CV 2/5] END max_depth=26, n_estimators=41;, score=(train=0.598, test=0.597) total time=   0.2s\n",
      "[CV 3/5] END max_depth=26, n_estimators=41;, score=(train=0.569, test=0.594) total time=   0.2s\n",
      "[CV 4/5] END max_depth=26, n_estimators=41;, score=(train=0.593, test=0.573) total time=   0.3s\n",
      "[CV 5/5] END max_depth=26, n_estimators=41;, score=(train=0.564, test=0.536) total time=   0.2s\n",
      "[CV 1/5] END max_depth=26, n_estimators=46;, score=(train=0.574, test=0.580) total time=   0.2s\n",
      "[CV 2/5] END max_depth=26, n_estimators=46;, score=(train=0.598, test=0.597) total time=   0.2s\n",
      "[CV 3/5] END max_depth=26, n_estimators=46;, score=(train=0.569, test=0.594) total time=   0.2s\n",
      "[CV 4/5] END max_depth=26, n_estimators=46;, score=(train=0.578, test=0.562) total time=   0.2s\n",
      "[CV 5/5] END max_depth=26, n_estimators=46;, score=(train=0.564, test=0.536) total time=   0.2s\n",
      "[CV 1/5] END max_depth=31, n_estimators=1;, score=(train=0.609, test=0.621) total time=   0.0s\n",
      "[CV 2/5] END max_depth=31, n_estimators=1;, score=(train=0.598, test=0.597) total time=   0.0s\n",
      "[CV 3/5] END max_depth=31, n_estimators=1;, score=(train=0.569, test=0.593) total time=   0.0s\n",
      "[CV 4/5] END max_depth=31, n_estimators=1;, score=(train=0.615, test=0.598) total time=   0.0s\n",
      "[CV 5/5] END max_depth=31, n_estimators=1;, score=(train=0.586, test=0.559) total time=   0.0s\n",
      "[CV 1/5] END max_depth=31, n_estimators=6;, score=(train=0.574, test=0.580) total time=   0.0s\n",
      "[CV 2/5] END max_depth=31, n_estimators=6;, score=(train=0.598, test=0.597) total time=   0.0s\n",
      "[CV 3/5] END max_depth=31, n_estimators=6;, score=(train=0.553, test=0.578) total time=   0.0s\n",
      "[CV 4/5] END max_depth=31, n_estimators=6;, score=(train=0.592, test=0.573) total time=   0.0s\n",
      "[CV 5/5] END max_depth=31, n_estimators=6;, score=(train=0.577, test=0.546) total time=   0.0s\n",
      "[CV 1/5] END max_depth=31, n_estimators=11;, score=(train=0.574, test=0.580) total time=   0.0s\n",
      "[CV 2/5] END max_depth=31, n_estimators=11;, score=(train=0.598, test=0.597) total time=   0.0s\n",
      "[CV 3/5] END max_depth=31, n_estimators=11;, score=(train=0.553, test=0.578) total time=   0.0s\n",
      "[CV 4/5] END max_depth=31, n_estimators=11;, score=(train=0.593, test=0.573) total time=   0.0s\n",
      "[CV 5/5] END max_depth=31, n_estimators=11;, score=(train=0.577, test=0.546) total time=   0.1s\n",
      "[CV 1/5] END max_depth=31, n_estimators=16;, score=(train=0.574, test=0.580) total time=   0.1s\n",
      "[CV 2/5] END max_depth=31, n_estimators=16;, score=(train=0.598, test=0.597) total time=   0.1s\n",
      "[CV 3/5] END max_depth=31, n_estimators=16;, score=(train=0.569, test=0.594) total time=   0.1s\n",
      "[CV 4/5] END max_depth=31, n_estimators=16;, score=(train=0.593, test=0.573) total time=   0.1s\n",
      "[CV 5/5] END max_depth=31, n_estimators=16;, score=(train=0.563, test=0.536) total time=   0.1s\n",
      "[CV 1/5] END max_depth=31, n_estimators=21;, score=(train=0.574, test=0.580) total time=   0.1s\n",
      "[CV 2/5] END max_depth=31, n_estimators=21;, score=(train=0.598, test=0.597) total time=   0.1s\n",
      "[CV 3/5] END max_depth=31, n_estimators=21;, score=(train=0.553, test=0.578) total time=   0.1s\n",
      "[CV 4/5] END max_depth=31, n_estimators=21;, score=(train=0.593, test=0.573) total time=   0.1s\n",
      "[CV 5/5] END max_depth=31, n_estimators=21;, score=(train=0.564, test=0.537) total time=   0.1s\n",
      "[CV 1/5] END max_depth=31, n_estimators=26;, score=(train=0.574, test=0.580) total time=   0.2s\n",
      "[CV 2/5] END max_depth=31, n_estimators=26;, score=(train=0.598, test=0.597) total time=   0.1s\n",
      "[CV 3/5] END max_depth=31, n_estimators=26;, score=(train=0.569, test=0.594) total time=   0.1s\n",
      "[CV 4/5] END max_depth=31, n_estimators=26;, score=(train=0.593, test=0.573) total time=   0.1s\n",
      "[CV 5/5] END max_depth=31, n_estimators=26;, score=(train=0.578, test=0.549) total time=   0.2s\n",
      "[CV 1/5] END max_depth=31, n_estimators=31;, score=(train=0.574, test=0.580) total time=   0.1s\n",
      "[CV 2/5] END max_depth=31, n_estimators=31;, score=(train=0.598, test=0.597) total time=   0.2s\n",
      "[CV 3/5] END max_depth=31, n_estimators=31;, score=(train=0.569, test=0.594) total time=   0.1s\n",
      "[CV 4/5] END max_depth=31, n_estimators=31;, score=(train=0.593, test=0.573) total time=   0.1s\n",
      "[CV 5/5] END max_depth=31, n_estimators=31;, score=(train=0.578, test=0.549) total time=   0.2s\n",
      "[CV 1/5] END max_depth=31, n_estimators=36;, score=(train=0.574, test=0.580) total time=   0.1s\n",
      "[CV 2/5] END max_depth=31, n_estimators=36;, score=(train=0.598, test=0.597) total time=   0.2s\n",
      "[CV 3/5] END max_depth=31, n_estimators=36;, score=(train=0.569, test=0.594) total time=   0.1s\n",
      "[CV 4/5] END max_depth=31, n_estimators=36;, score=(train=0.593, test=0.573) total time=   0.1s\n",
      "[CV 5/5] END max_depth=31, n_estimators=36;, score=(train=0.564, test=0.537) total time=   0.2s\n",
      "[CV 1/5] END max_depth=31, n_estimators=41;, score=(train=0.574, test=0.580) total time=   0.1s\n",
      "[CV 2/5] END max_depth=31, n_estimators=41;, score=(train=0.598, test=0.597) total time=   0.1s\n",
      "[CV 3/5] END max_depth=31, n_estimators=41;, score=(train=0.569, test=0.594) total time=   0.2s\n",
      "[CV 4/5] END max_depth=31, n_estimators=41;, score=(train=0.593, test=0.573) total time=   0.2s\n",
      "[CV 5/5] END max_depth=31, n_estimators=41;, score=(train=0.564, test=0.536) total time=   0.1s\n",
      "[CV 1/5] END max_depth=31, n_estimators=46;, score=(train=0.574, test=0.580) total time=   0.2s\n",
      "[CV 2/5] END max_depth=31, n_estimators=46;, score=(train=0.598, test=0.597) total time=   0.2s\n",
      "[CV 3/5] END max_depth=31, n_estimators=46;, score=(train=0.569, test=0.594) total time=   0.2s\n",
      "[CV 4/5] END max_depth=31, n_estimators=46;, score=(train=0.578, test=0.562) total time=   0.2s\n",
      "[CV 5/5] END max_depth=31, n_estimators=46;, score=(train=0.564, test=0.536) total time=   0.2s\n",
      "[CV 1/5] END max_depth=36, n_estimators=1;, score=(train=0.609, test=0.621) total time=   0.0s\n",
      "[CV 2/5] END max_depth=36, n_estimators=1;, score=(train=0.598, test=0.597) total time=   0.0s\n",
      "[CV 3/5] END max_depth=36, n_estimators=1;, score=(train=0.569, test=0.593) total time=   0.0s\n",
      "[CV 4/5] END max_depth=36, n_estimators=1;, score=(train=0.615, test=0.598) total time=   0.0s\n",
      "[CV 5/5] END max_depth=36, n_estimators=1;, score=(train=0.586, test=0.559) total time=   0.0s\n",
      "[CV 1/5] END max_depth=36, n_estimators=6;, score=(train=0.574, test=0.580) total time=   0.0s\n",
      "[CV 2/5] END max_depth=36, n_estimators=6;, score=(train=0.598, test=0.597) total time=   0.0s\n",
      "[CV 3/5] END max_depth=36, n_estimators=6;, score=(train=0.553, test=0.578) total time=   0.0s\n",
      "[CV 4/5] END max_depth=36, n_estimators=6;, score=(train=0.592, test=0.573) total time=   0.0s\n",
      "[CV 5/5] END max_depth=36, n_estimators=6;, score=(train=0.577, test=0.546) total time=   0.0s\n",
      "[CV 1/5] END max_depth=36, n_estimators=11;, score=(train=0.574, test=0.580) total time=   0.1s\n",
      "[CV 2/5] END max_depth=36, n_estimators=11;, score=(train=0.598, test=0.597) total time=   0.0s\n",
      "[CV 3/5] END max_depth=36, n_estimators=11;, score=(train=0.553, test=0.578) total time=   0.0s\n",
      "[CV 4/5] END max_depth=36, n_estimators=11;, score=(train=0.593, test=0.573) total time=   0.0s\n",
      "[CV 5/5] END max_depth=36, n_estimators=11;, score=(train=0.577, test=0.546) total time=   0.1s\n",
      "[CV 1/5] END max_depth=36, n_estimators=16;, score=(train=0.574, test=0.580) total time=   0.1s\n",
      "[CV 2/5] END max_depth=36, n_estimators=16;, score=(train=0.598, test=0.597) total time=   0.1s\n",
      "[CV 3/5] END max_depth=36, n_estimators=16;, score=(train=0.569, test=0.594) total time=   0.1s\n",
      "[CV 4/5] END max_depth=36, n_estimators=16;, score=(train=0.593, test=0.573) total time=   0.1s\n",
      "[CV 5/5] END max_depth=36, n_estimators=16;, score=(train=0.563, test=0.536) total time=   0.1s\n",
      "[CV 1/5] END max_depth=36, n_estimators=21;, score=(train=0.574, test=0.580) total time=   0.1s\n",
      "[CV 2/5] END max_depth=36, n_estimators=21;, score=(train=0.598, test=0.597) total time=   0.1s\n",
      "[CV 3/5] END max_depth=36, n_estimators=21;, score=(train=0.553, test=0.578) total time=   0.1s\n",
      "[CV 4/5] END max_depth=36, n_estimators=21;, score=(train=0.593, test=0.573) total time=   0.1s\n",
      "[CV 5/5] END max_depth=36, n_estimators=21;, score=(train=0.564, test=0.537) total time=   0.1s\n",
      "[CV 1/5] END max_depth=36, n_estimators=26;, score=(train=0.574, test=0.580) total time=   0.1s\n",
      "[CV 2/5] END max_depth=36, n_estimators=26;, score=(train=0.598, test=0.597) total time=   0.1s\n",
      "[CV 3/5] END max_depth=36, n_estimators=26;, score=(train=0.569, test=0.594) total time=   0.1s\n",
      "[CV 4/5] END max_depth=36, n_estimators=26;, score=(train=0.593, test=0.573) total time=   0.1s\n",
      "[CV 5/5] END max_depth=36, n_estimators=26;, score=(train=0.578, test=0.549) total time=   0.1s\n",
      "[CV 1/5] END max_depth=36, n_estimators=31;, score=(train=0.574, test=0.580) total time=   0.1s\n",
      "[CV 2/5] END max_depth=36, n_estimators=31;, score=(train=0.598, test=0.597) total time=   0.2s\n",
      "[CV 3/5] END max_depth=36, n_estimators=31;, score=(train=0.569, test=0.594) total time=   0.1s\n",
      "[CV 4/5] END max_depth=36, n_estimators=31;, score=(train=0.593, test=0.573) total time=   0.1s\n",
      "[CV 5/5] END max_depth=36, n_estimators=31;, score=(train=0.578, test=0.549) total time=   0.1s\n",
      "[CV 1/5] END max_depth=36, n_estimators=36;, score=(train=0.574, test=0.580) total time=   0.1s\n",
      "[CV 2/5] END max_depth=36, n_estimators=36;, score=(train=0.598, test=0.597) total time=   0.2s\n",
      "[CV 3/5] END max_depth=36, n_estimators=36;, score=(train=0.569, test=0.594) total time=   0.1s\n",
      "[CV 4/5] END max_depth=36, n_estimators=36;, score=(train=0.593, test=0.573) total time=   0.1s\n",
      "[CV 5/5] END max_depth=36, n_estimators=36;, score=(train=0.564, test=0.537) total time=   0.1s\n",
      "[CV 1/5] END max_depth=36, n_estimators=41;, score=(train=0.574, test=0.580) total time=   0.1s\n",
      "[CV 2/5] END max_depth=36, n_estimators=41;, score=(train=0.598, test=0.597) total time=   0.1s\n",
      "[CV 3/5] END max_depth=36, n_estimators=41;, score=(train=0.569, test=0.594) total time=   0.2s\n",
      "[CV 4/5] END max_depth=36, n_estimators=41;, score=(train=0.593, test=0.573) total time=   0.2s\n",
      "[CV 5/5] END max_depth=36, n_estimators=41;, score=(train=0.564, test=0.536) total time=   0.2s\n",
      "[CV 1/5] END max_depth=36, n_estimators=46;, score=(train=0.574, test=0.580) total time=   0.2s\n",
      "[CV 2/5] END max_depth=36, n_estimators=46;, score=(train=0.598, test=0.597) total time=   0.2s\n",
      "[CV 3/5] END max_depth=36, n_estimators=46;, score=(train=0.569, test=0.594) total time=   0.2s\n",
      "[CV 4/5] END max_depth=36, n_estimators=46;, score=(train=0.578, test=0.562) total time=   0.2s\n",
      "[CV 5/5] END max_depth=36, n_estimators=46;, score=(train=0.564, test=0.536) total time=   0.2s\n",
      "train accuracy: 0.6737092301597781\n",
      "test accuracy: 0.6647307286166843\n",
      "{'max_depth': 1, 'n_estimators': 16}\n"
     ]
    }
   ],
   "source": [
    "#2a\n",
    "# gscv initialize\n",
    "gscv = GridSearchCV(estimator = RandomForestClassifier(random_state = 0), param_grid={'max_depth': range(1,40,5), 'n_estimators': range(1,50,5)}, verbose = 4, return_train_score=True)\n",
    "\n",
    "# train test split\n",
    "x_train, x_test, y_train, y_test = train_test_split(features_cat, type_cat, test_size=0.2, random_state=0)\n",
    "\n",
    "\n",
    "# fit model\n",
    "gscv.fit(x_train, y_train)\n",
    "train_accuracy = gscv.score(x_train,y_train)\n",
    "test_accuracy = gscv.score(x_test,y_test)\n",
    "print('train accuracy:', train_accuracy)\n",
    "print('test accuracy:', test_accuracy)\n",
    "print(gscv.best_params_)\n"
   ]
  },
  {
   "cell_type": "code",
   "execution_count": 66,
   "id": "38b4c13e-a329-42ac-8146-4f5b77ccb920",
   "metadata": {},
   "outputs": [
    {
     "name": "stdout",
     "output_type": "stream",
     "text": [
      "[[ 60057   6212]\n",
      " [  6212 391402]]\n",
      "Sensitivity total: 0.906\n",
      "Specificity total: 0.984\n"
     ]
    }
   ],
   "source": [
    "#2d\n",
    "# create variables for actual output vs predicted output\n",
    "g_actual = type_cat\n",
    "g_pred = gscv.predict(features_cat)\n",
    "\n",
    "# mild to severe: 2-4\n",
    "\n",
    "# conditions for true positive, true negatives, false negatives, and false positives\n",
    "tp0 = (g_actual==0) & (g_pred ==0)\n",
    "tp1 = (g_actual==1) & (g_pred ==1)\n",
    "tp2 = (g_actual==2) & (g_pred ==2)\n",
    "tp3 = (g_actual==3) & (g_pred ==3)\n",
    "tp4 = (g_actual==4) & (g_pred ==4)\n",
    "tp5 = (g_actual==5) & (g_pred ==5)\n",
    "tp6 = (g_actual==6) & (g_pred ==6)\n",
    "\n",
    "\n",
    "tn0 = (g_actual!=0) & (g_pred !=0)\n",
    "tn1 = (g_actual!=1) & (g_pred !=1)\n",
    "tn2 = (g_actual!=2) & (g_pred !=2)\n",
    "tn3 = (g_actual!=3) & (g_pred !=3)\n",
    "tn4 = (g_actual!=4) & (g_pred !=4)\n",
    "tn5 = (g_actual!=5) & (g_pred !=5)\n",
    "tn6 = (g_actual!=6) & (g_pred !=6)\n",
    "\n",
    "\n",
    "fn0 = (g_actual==0) & (g_pred !=0)\n",
    "fn1 = (g_actual==1) & (g_pred !=1)\n",
    "fn2 = (g_actual==2) & (g_pred !=2)\n",
    "fn3 = (g_actual==3) & (g_pred !=3)\n",
    "fn4 = (g_actual==4) & (g_pred !=4)\n",
    "fn5 = (g_actual==5) & (g_pred !=5)\n",
    "fn6 = (g_actual==6) & (g_pred !=6)\n",
    "\n",
    "fp0 = (g_actual!=0) & (g_pred ==0)\n",
    "fp1 = (g_actual!=1) & (g_pred ==1)\n",
    "fp2 = (g_actual!=2) & (g_pred ==2)\n",
    "fp3 = (g_actual!=3) & (g_pred ==3)\n",
    "fp4 = (g_actual!=4) & (g_pred ==4)\n",
    "fp5 = (g_actual!=5) & (g_pred ==5)\n",
    "fp6 = (g_actual!=6) & (g_pred ==6)\n",
    "\n",
    "\n",
    "# calculate tp, fn, fp, tn\n",
    "tp = tp0.sum()+tp1.sum()+tp2.sum()+tp3.sum()+tp4.sum()+tp5.sum()+tp6.sum()\n",
    "fn = fn0.sum()+fn1.sum()+fn2.sum()+fn3.sum()+fn4.sum()+fn5.sum()+fn6.sum()\n",
    "fp = fp0.sum()+fp1.sum()+fp2.sum() + fp3.sum() +fp4.sum()+ fp5.sum()+ fp6.sum()\n",
    "tn =  tn0.sum()+tn1.sum()+tn2.sum() + tn3.sum() + tn4.sum()+tn5.sum()+tn6.sum()\n",
    "\n",
    "# confusion matrix of results\n",
    "cm = np.array([[tp, fn],[fp, tn]])\n",
    "print(cm)\n",
    "\n",
    "\n",
    "# calculate sensitivity and specificity\n",
    "sensitivity = tp/(tp+fn)\n",
    "specificity = tn/(tn+fp)\n",
    "\n",
    "\n",
    "# print results\n",
    "print('Sensitivity total: %.3f' % sensitivity)\n",
    "print('Specificity total: %.3f' % specificity)\n"
   ]
  },
  {
   "cell_type": "code",
   "execution_count": 67,
   "id": "064c0b3c-37c3-4af2-afbf-c6b3738e60a9",
   "metadata": {},
   "outputs": [
    {
     "name": "stdout",
     "output_type": "stream",
     "text": [
      "Model: \"sequential_7\"\n",
      "_________________________________________________________________\n",
      " Layer (type)                Output Shape              Param #   \n",
      "=================================================================\n",
      " conv2d_14 (Conv2D)          (None, 198, 198, 32)      896       \n",
      "                                                                 \n",
      " max_pooling2d_12 (MaxPoolin  (None, 39, 39, 32)       0         \n",
      " g2D)                                                            \n",
      "                                                                 \n",
      " flatten_7 (Flatten)         (None, 48672)             0         \n",
      "                                                                 \n",
      " dense_22 (Dense)            (None, 7)                 340711    \n",
      "                                                                 \n",
      "=================================================================\n",
      "Total params: 341,607\n",
      "Trainable params: 341,607\n",
      "Non-trainable params: 0\n",
      "_________________________________________________________________\n"
     ]
    }
   ],
   "source": [
    "# Define the model\n",
    "model = Sequential([\n",
    "    Conv2D(32, (3, 3), activation='relu', input_shape=(image_size[0], image_size[1], 3)),\n",
    "    MaxPooling2D(pool_size=(5, 5)),\n",
    "    Flatten(),\n",
    "    Dense(num_classes, activation='softmax')\n",
    "])\n",
    "\n",
    "model.summary()\n",
    "\n",
    "# Compile the model\n",
    "model.compile(optimizer='adam', loss='categorical_crossentropy', metrics=['accuracy'])\n"
   ]
  },
  {
   "cell_type": "code",
   "execution_count": 68,
   "id": "5f3883ef-cf83-4e91-87a2-889cbef5bb4c",
   "metadata": {},
   "outputs": [
    {
     "name": "stdout",
     "output_type": "stream",
     "text": [
      "Epoch 1/5\n"
     ]
    },
    {
     "name": "stderr",
     "output_type": "stream",
     "text": [
      "2024-05-21 19:22:08.151886: I tensorflow/core/common_runtime/executor.cc:1197] [/device:CPU:0] (DEBUG INFO) Executor start aborting (this does not indicate an error and you can ignore this message): INVALID_ARGUMENT: You must feed a value for placeholder tensor 'Placeholder/_0' with dtype int32\n",
      "\t [[{{node Placeholder/_0}}]]\n"
     ]
    },
    {
     "name": "stdout",
     "output_type": "stream",
     "text": [
      "190/190 [==============================] - ETA: 0s - loss: 1.1219 - accuracy: 0.6613"
     ]
    },
    {
     "name": "stderr",
     "output_type": "stream",
     "text": [
      "2024-05-21 19:23:20.458278: I tensorflow/core/common_runtime/executor.cc:1197] [/device:CPU:0] (DEBUG INFO) Executor start aborting (this does not indicate an error and you can ignore this message): INVALID_ARGUMENT: You must feed a value for placeholder tensor 'Placeholder/_0' with dtype int32\n",
      "\t [[{{node Placeholder/_0}}]]\n"
     ]
    },
    {
     "name": "stdout",
     "output_type": "stream",
     "text": [
      "190/190 [==============================] - 87s 457ms/step - loss: 1.1219 - accuracy: 0.6613 - val_loss: 0.9523 - val_accuracy: 0.6785\n",
      "Epoch 2/5\n",
      "190/190 [==============================] - 81s 424ms/step - loss: 0.9249 - accuracy: 0.6751 - val_loss: 0.9056 - val_accuracy: 0.6799\n",
      "Epoch 3/5\n",
      "190/190 [==============================] - 82s 430ms/step - loss: 0.8862 - accuracy: 0.6812 - val_loss: 0.8659 - val_accuracy: 0.6904\n",
      "Epoch 4/5\n",
      "190/190 [==============================] - 82s 430ms/step - loss: 0.8504 - accuracy: 0.6883 - val_loss: 0.8300 - val_accuracy: 0.7096\n",
      "Epoch 5/5\n",
      "190/190 [==============================] - 79s 417ms/step - loss: 0.8192 - accuracy: 0.7025 - val_loss: 0.8133 - val_accuracy: 0.7096\n"
     ]
    }
   ],
   "source": [
    "# Train the model\n",
    "history = model.fit(train_gen, epochs=5, validation_data=val_gen, batch_size=32, verbose=1)"
   ]
  },
  {
   "cell_type": "code",
   "execution_count": 69,
   "id": "b13643c2-8901-4453-a4ee-33e27bd1f0b7",
   "metadata": {},
   "outputs": [
    {
     "data": {
      "image/png": "[encoded data removed]",
      "text/plain": [
       "<Figure size 640x480 with 1 Axes>"
      ]
     },
     "metadata": {},
     "output_type": "display_data"
    }
   ],
   "source": [
    "#3a: Plot training & validation accuracy values\n",
    "plt.plot(history.history['accuracy'], label='Training Accuracy')\n",
    "plt.plot(history.history['val_accuracy'], label='Validation Accuracy')\n",
    "plt.title('Training and Validation Accuracy')\n",
    "plt.xlabel('Epoch')\n",
    "plt.ylabel('Accuracy')\n",
    "plt.legend()\n",
    "plt.show()"
   ]
  },
  {
   "cell_type": "code",
   "execution_count": 70,
   "id": "44ff1095-1eed-4a78-855d-47710a83c637",
   "metadata": {},
   "outputs": [
    {
     "name": "stderr",
     "output_type": "stream",
     "text": [
      "2024-05-21 19:28:58.977531: I tensorflow/core/common_runtime/executor.cc:1197] [/device:CPU:0] (DEBUG INFO) Executor start aborting (this does not indicate an error and you can ignore this message): INVALID_ARGUMENT: You must feed a value for placeholder tensor 'Placeholder/_0' with dtype int32\n",
      "\t [[{{node Placeholder/_0}}]]\n"
     ]
    },
    {
     "name": "stdout",
     "output_type": "stream",
     "text": [
      "190/190 [==============================] - 55s 287ms/step - loss: 0.7783 - accuracy: 0.7060\n",
      " 1/60 [..............................] - ETA: 11s - loss: 0.7147 - accuracy: 0.7188"
     ]
    },
    {
     "name": "stderr",
     "output_type": "stream",
     "text": [
      "2024-05-21 19:29:53.805998: I tensorflow/core/common_runtime/executor.cc:1197] [/device:CPU:0] (DEBUG INFO) Executor start aborting (this does not indicate an error and you can ignore this message): INVALID_ARGUMENT: You must feed a value for placeholder tensor 'Placeholder/_0' with dtype int32\n",
      "\t [[{{node Placeholder/_0}}]]\n"
     ]
    },
    {
     "name": "stdout",
     "output_type": "stream",
     "text": [
      "60/60 [==============================] - 10s 164ms/step - loss: 0.8658 - accuracy: 0.6779\n",
      "Training Accuracy: 0.7060\n",
      "Test Accuracy: 0.6779\n"
     ]
    }
   ],
   "source": [
    "#3b: Evaluate the model on test data\n",
    "train_loss, train_accuracy = model.evaluate(train_gen)\n",
    "test_loss, test_accuracy = model.evaluate(test_gen)\n",
    "print(f'Training Accuracy: {train_accuracy:.4f}')\n",
    "print(f'Test Accuracy: {test_accuracy:.4f}')\n",
    "\n"
   ]
  },
  {
   "cell_type": "code",
   "execution_count": 55,
   "id": "6facd258-c659-47a2-9d53-aacb365089f3",
   "metadata": {},
   "outputs": [
    {
     "name": "stderr",
     "output_type": "stream",
     "text": [
      "2024-05-21 19:18:31.150669: I tensorflow/core/common_runtime/executor.cc:1197] [/device:CPU:0] (DEBUG INFO) Executor start aborting (this does not indicate an error and you can ignore this message): INVALID_ARGUMENT: You must feed a value for placeholder tensor 'Placeholder/_0' with dtype int32\n",
      "\t [[{{node Placeholder/_0}}]]\n"
     ]
    },
    {
     "name": "stdout",
     "output_type": "stream",
     "text": [
      "60/60 [==============================] - 11s 188ms/step\n",
      "Confusion Matrix:\n",
      "[[   0    7   31    0    0   32    0]\n",
      " [   0   31   37    0    1   33    0]\n",
      " [   0    8  106    0    7   84    0]\n",
      " [   0    3   14    0    0    7    0]\n",
      " [   0    4   46    0   10  149    0]\n",
      " [   0    6   90    0   21 1129    0]\n",
      " [   0   12    0    0    1   22    3]]\n",
      "\n",
      "Classification Report:\n",
      "              precision    recall  f1-score   support\n",
      "\n",
      "       akiec       0.00      0.00      0.00        70\n",
      "         bcc       0.44      0.30      0.36       102\n",
      "         bkl       0.33      0.52      0.40       205\n",
      "          df       0.00      0.00      0.00        24\n",
      "         mel       0.25      0.05      0.08       209\n",
      "          nv       0.78      0.91      0.84      1246\n",
      "        vasc       1.00      0.08      0.15        38\n",
      "\n",
      "    accuracy                           0.68      1894\n",
      "   macro avg       0.40      0.26      0.26      1894\n",
      "weighted avg       0.62      0.68      0.62      1894\n",
      "\n"
     ]
    },
    {
     "name": "stderr",
     "output_type": "stream",
     "text": [
      "/opt/anaconda3/lib/python3.11/site-packages/sklearn/metrics/_classification.py:1344: UndefinedMetricWarning: Precision and F-score are ill-defined and being set to 0.0 in labels with no predicted samples. Use `zero_division` parameter to control this behavior.\n",
      "  _warn_prf(average, modifier, msg_start, len(result))\n",
      "/opt/anaconda3/lib/python3.11/site-packages/sklearn/metrics/_classification.py:1344: UndefinedMetricWarning: Precision and F-score are ill-defined and being set to 0.0 in labels with no predicted samples. Use `zero_division` parameter to control this behavior.\n",
      "  _warn_prf(average, modifier, msg_start, len(result))\n",
      "/opt/anaconda3/lib/python3.11/site-packages/sklearn/metrics/_classification.py:1344: UndefinedMetricWarning: Precision and F-score are ill-defined and being set to 0.0 in labels with no predicted samples. Use `zero_division` parameter to control this behavior.\n",
      "  _warn_prf(average, modifier, msg_start, len(result))\n"
     ]
    }
   ],
   "source": [
    "#3c: Predict the classes for the test set\n",
    "y_pred = model.predict(test_gen)\n",
    "y_pred_classes = np.argmax(y_pred, axis=1)\n",
    "y_true_classes = test_gen.classes\n",
    "\n",
    "# Calculate sensitivity and specificity for each class\n",
    "conf_matrix = confusion_matrix(y_true_classes, y_pred_classes)\n",
    "class_names = encoder.categories_[0]  # Assuming 'dx' is the only encoded category\n",
    "class_report = classification_report(y_true_classes, y_pred_classes, target_names=class_names)\n",
    "\n",
    "print('Confusion Matrix:')\n",
    "print(conf_matrix)\n",
    "print('\\nClassification Report:')\n",
    "print(class_report)"
   ]
  },
  {
   "cell_type": "code",
   "execution_count": 71,
   "id": "48997abd-670d-4281-99be-1bc4b615ef7d",
   "metadata": {},
   "outputs": [
    {
     "name": "stdout",
     "output_type": "stream",
     "text": [
      "Model: \"sequential_8\"\n",
      "_________________________________________________________________\n",
      " Layer (type)                Output Shape              Param #   \n",
      "=================================================================\n",
      " conv2d_15 (Conv2D)          (None, 200, 200, 32)      896       \n",
      "                                                                 \n",
      " max_pooling2d_13 (MaxPoolin  (None, 40, 40, 32)       0         \n",
      " g2D)                                                            \n",
      "                                                                 \n",
      " conv2d_16 (Conv2D)          (None, 40, 40, 64)        18496     \n",
      "                                                                 \n",
      " max_pooling2d_14 (MaxPoolin  (None, 8, 8, 64)         0         \n",
      " g2D)                                                            \n",
      "                                                                 \n",
      " flatten_8 (Flatten)         (None, 4096)              0         \n",
      "                                                                 \n",
      " dense_23 (Dense)            (None, 128)               524416    \n",
      "                                                                 \n",
      " dropout_15 (Dropout)        (None, 128)               0         \n",
      "                                                                 \n",
      " dense_24 (Dense)            (None, 64)                8256      \n",
      "                                                                 \n",
      " dropout_16 (Dropout)        (None, 64)                0         \n",
      "                                                                 \n",
      " dense_25 (Dense)            (None, 32)                2080      \n",
      "                                                                 \n",
      " dropout_17 (Dropout)        (None, 32)                0         \n",
      "                                                                 \n",
      " dense_26 (Dense)            (None, 7)                 231       \n",
      "                                                                 \n",
      "=================================================================\n",
      "Total params: 554,375\n",
      "Trainable params: 554,375\n",
      "Non-trainable params: 0\n",
      "_________________________________________________________________\n"
     ]
    }
   ],
   "source": [
    "# Define the model\n",
    "model = Sequential([\n",
    "    Conv2D(32, (3, 3), activation='relu', padding='same', input_shape=(image_size[0], image_size[1], 3)),\n",
    "    MaxPooling2D(pool_size=(5, 5)),\n",
    "    Conv2D(64, (3, 3), activation='relu', padding='same'),\n",
    "    MaxPooling2D(pool_size=(5, 5)),\n",
    "    Flatten(),\n",
    "    Dense(128, activation='relu'),\n",
    "    Dropout(0.3),\n",
    "    Dense(64, activation='relu'),\n",
    "    Dropout(0.3),\n",
    "    Dense(32, activation='relu'),\n",
    "    Dropout(0.3),\n",
    "    Dense(num_classes, activation='softmax')\n",
    "])\n",
    "\n",
    "model.summary()\n",
    "\n",
    "# Compile the model\n",
    "model.compile(optimizer='adam', loss='categorical_crossentropy', metrics=['accuracy'])\n"
   ]
  },
  {
   "cell_type": "code",
   "execution_count": 72,
   "id": "2821da4a-a7b8-42df-a9e0-4711dd5695a9",
   "metadata": {},
   "outputs": [
    {
     "name": "stdout",
     "output_type": "stream",
     "text": [
      "Epoch 1/5\n"
     ]
    },
    {
     "name": "stderr",
     "output_type": "stream",
     "text": [
      "2024-05-21 19:30:04.265851: I tensorflow/core/common_runtime/executor.cc:1197] [/device:CPU:0] (DEBUG INFO) Executor start aborting (this does not indicate an error and you can ignore this message): INVALID_ARGUMENT: You must feed a value for placeholder tensor 'Placeholder/_0' with dtype int32\n",
      "\t [[{{node Placeholder/_0}}]]\n"
     ]
    },
    {
     "name": "stdout",
     "output_type": "stream",
     "text": [
      "190/190 [==============================] - ETA: 0s - loss: 1.1311 - accuracy: 0.6633"
     ]
    },
    {
     "name": "stderr",
     "output_type": "stream",
     "text": [
      "2024-05-21 19:31:01.342284: I tensorflow/core/common_runtime/executor.cc:1197] [/device:CPU:0] (DEBUG INFO) Executor start aborting (this does not indicate an error and you can ignore this message): INVALID_ARGUMENT: You must feed a value for placeholder tensor 'Placeholder/_0' with dtype int32\n",
      "\t [[{{node Placeholder/_0}}]]\n"
     ]
    },
    {
     "name": "stdout",
     "output_type": "stream",
     "text": [
      "190/190 [==============================] - 70s 368ms/step - loss: 1.1311 - accuracy: 0.6633 - val_loss: 0.9430 - val_accuracy: 0.6792\n",
      "Epoch 2/5\n",
      "190/190 [==============================] - 73s 382ms/step - loss: 0.9758 - accuracy: 0.6727 - val_loss: 0.8856 - val_accuracy: 0.6812\n",
      "Epoch 3/5\n",
      "190/190 [==============================] - 70s 369ms/step - loss: 0.9275 - accuracy: 0.6740 - val_loss: 0.8477 - val_accuracy: 0.6924\n",
      "Epoch 4/5\n",
      "190/190 [==============================] - 69s 363ms/step - loss: 0.8812 - accuracy: 0.6771 - val_loss: 0.8060 - val_accuracy: 0.6904\n",
      "Epoch 5/5\n",
      "190/190 [==============================] - 69s 364ms/step - loss: 0.8544 - accuracy: 0.6844 - val_loss: 0.7961 - val_accuracy: 0.6957\n"
     ]
    }
   ],
   "source": [
    "# Train the model\n",
    "history = model.fit(train_gen, epochs=5, validation_data=val_gen)"
   ]
  },
  {
   "cell_type": "code",
   "execution_count": 73,
   "id": "09881aad-e95d-4fcd-8448-d12503937a33",
   "metadata": {},
   "outputs": [
    {
     "data": {
      "image/png": "[encoded data removed]",
      "text/plain": [
       "<Figure size 640x480 with 1 Axes>"
      ]
     },
     "metadata": {},
     "output_type": "display_data"
    },
    {
     "name": "stderr",
     "output_type": "stream",
     "text": [
      "2024-05-21 19:35:56.062307: I tensorflow/core/common_runtime/executor.cc:1197] [/device:CPU:0] (DEBUG INFO) Executor start aborting (this does not indicate an error and you can ignore this message): INVALID_ARGUMENT: You must feed a value for placeholder tensor 'Placeholder/_0' with dtype int32\n",
      "\t [[{{node Placeholder/_0}}]]\n"
     ]
    },
    {
     "name": "stdout",
     "output_type": "stream",
     "text": [
      "190/190 [==============================] - 51s 266ms/step - loss: 0.7848 - accuracy: 0.6936\n",
      " 1/60 [..............................] - ETA: 11s - loss: 0.8509 - accuracy: 0.6875"
     ]
    },
    {
     "name": "stderr",
     "output_type": "stream",
     "text": [
      "2024-05-21 19:36:46.856568: I tensorflow/core/common_runtime/executor.cc:1197] [/device:CPU:0] (DEBUG INFO) Executor start aborting (this does not indicate an error and you can ignore this message): INVALID_ARGUMENT: You must feed a value for placeholder tensor 'Placeholder/_0' with dtype int32\n",
      "\t [[{{node Placeholder/_0}}]]\n"
     ]
    },
    {
     "name": "stdout",
     "output_type": "stream",
     "text": [
      "60/60 [==============================] - 10s 161ms/step - loss: 0.8500 - accuracy: 0.6790\n",
      "Training Accuracy: 0.6936\n",
      "Test Accuracy: 0.6790\n"
     ]
    },
    {
     "name": "stderr",
     "output_type": "stream",
     "text": [
      "2024-05-21 19:36:56.686683: I tensorflow/core/common_runtime/executor.cc:1197] [/device:CPU:0] (DEBUG INFO) Executor start aborting (this does not indicate an error and you can ignore this message): INVALID_ARGUMENT: You must feed a value for placeholder tensor 'Placeholder/_0' with dtype int32\n",
      "\t [[{{node Placeholder/_0}}]]\n"
     ]
    },
    {
     "name": "stdout",
     "output_type": "stream",
     "text": [
      "60/60 [==============================] - 10s 161ms/step\n",
      "Confusion Matrix:\n",
      "[[   0    8   21    0    0   41    0]\n",
      " [   0   18   15    0    0   69    0]\n",
      " [   0    5   34    0    0  166    0]\n",
      " [   0    2    6    0    0   16    0]\n",
      " [   0    0   17    0    0  192    0]\n",
      " [   0    5    7    0    0 1234    0]\n",
      " [   0    3    0    0    0   35    0]]\n",
      "\n",
      "Classification Report:\n",
      "              precision    recall  f1-score   support\n",
      "\n",
      "       akiec       0.00      0.00      0.00        70\n",
      "         bcc       0.44      0.18      0.25       102\n",
      "         bkl       0.34      0.17      0.22       205\n",
      "          df       0.00      0.00      0.00        24\n",
      "         mel       0.00      0.00      0.00       209\n",
      "          nv       0.70      0.99      0.82      1246\n",
      "        vasc       0.00      0.00      0.00        38\n",
      "\n",
      "    accuracy                           0.68      1894\n",
      "   macro avg       0.21      0.19      0.19      1894\n",
      "weighted avg       0.52      0.68      0.58      1894\n",
      "\n"
     ]
    },
    {
     "name": "stderr",
     "output_type": "stream",
     "text": [
      "/opt/anaconda3/lib/python3.11/site-packages/sklearn/metrics/_classification.py:1344: UndefinedMetricWarning: Precision and F-score are ill-defined and being set to 0.0 in labels with no predicted samples. Use `zero_division` parameter to control this behavior.\n",
      "  _warn_prf(average, modifier, msg_start, len(result))\n",
      "/opt/anaconda3/lib/python3.11/site-packages/sklearn/metrics/_classification.py:1344: UndefinedMetricWarning: Precision and F-score are ill-defined and being set to 0.0 in labels with no predicted samples. Use `zero_division` parameter to control this behavior.\n",
      "  _warn_prf(average, modifier, msg_start, len(result))\n",
      "/opt/anaconda3/lib/python3.11/site-packages/sklearn/metrics/_classification.py:1344: UndefinedMetricWarning: Precision and F-score are ill-defined and being set to 0.0 in labels with no predicted samples. Use `zero_division` parameter to control this behavior.\n",
      "  _warn_prf(average, modifier, msg_start, len(result))\n"
     ]
    }
   ],
   "source": [
    "#4a\n",
    "# Plotting training and validation accuracy\n",
    "plt.plot(history.history['accuracy'], label='Training Accuracy')\n",
    "plt.plot(history.history['val_accuracy'], label='Validation Accuracy')\n",
    "plt.title('Training and Validation Accuracy')\n",
    "plt.xlabel('Epoch')\n",
    "plt.ylabel('Accuracy')\n",
    "plt.legend()\n",
    "plt.show()\n",
    "\n",
    "#4b\n",
    "# Training and test accuracy\n",
    "train_loss, train_accuracy = model.evaluate(train_gen)\n",
    "test_loss, test_accuracy = model.evaluate(test_gen)\n",
    "print(f'Training Accuracy: {train_accuracy:.4f}')\n",
    "print(f'Test Accuracy: {test_accuracy:.4f}')\n",
    "\n",
    "#4c\n",
    "# Predict classes for the test set\n",
    "y_pred = model.predict(test_gen)\n",
    "y_pred_classes = np.argmax(y_pred, axis=1)\n",
    "y_true_classes = test_gen.classes\n",
    "\n",
    "# Calculate sensitivity and specificity for each class\n",
    "conf_matrix = confusion_matrix(y_true_classes, y_pred_classes)\n",
    "class_names = encoder.categories_[0]  # Assuming 'dx' is the last encoded category\n",
    "class_report = classification_report(y_true_classes, y_pred_classes, target_names=class_names)\n",
    "\n",
    "print('Confusion Matrix:')\n",
    "print(conf_matrix)\n",
    "print('\\nClassification Report:')\n",
    "print(class_report)"
   ]
  },
  {
   "cell_type": "code",
   "execution_count": 79,
   "id": "b7628723-61e2-4143-978d-d2f345a74b49",
   "metadata": {},
   "outputs": [],
   "source": [
    "# Train-test split\n",
    "X_train, X_test, y_train, y_test = train_test_split(images, type_cat, test_size=0.2, random_state=0)\n",
    "\n",
    "# Define the model\n",
    "model = Sequential([\n",
    "    Conv2D(32, (3, 3), activation='relu', padding='same', input_shape=(image_size[0], image_size[1], 3)),\n",
    "    MaxPooling2D(pool_size=(5, 5)),\n",
    "    Conv2D(64, (3, 3), activation='relu', padding='same'),\n",
    "    MaxPooling2D(pool_size=(5, 5)),\n",
    "    Flatten(),\n",
    "    Dense(128, activation='relu'),\n",
    "    Dropout(0.3),\n",
    "    Dense(64, activation='relu'),\n",
    "    Dropout(0.3),\n",
    "    Dense(32, activation='relu'),\n",
    "    Dropout(0.3),\n",
    "    Dense(num_classes, activation='softmax')\n",
    "])\n",
    "\n",
    "# Compile the model\n",
    "model.compile(optimizer='adam', loss='categorical_crossentropy', metrics=['accuracy'])\n"
   ]
  },
  {
   "cell_type": "code",
   "execution_count": 80,
   "id": "cac49b3d-f4b7-4964-88d8-f8b1889a5161",
   "metadata": {},
   "outputs": [
    {
     "name": "stdout",
     "output_type": "stream",
     "text": [
      "Epoch 1/5\n"
     ]
    },
    {
     "name": "stderr",
     "output_type": "stream",
     "text": [
      "2024-05-21 19:39:08.566114: I tensorflow/core/common_runtime/executor.cc:1197] [/device:CPU:0] (DEBUG INFO) Executor start aborting (this does not indicate an error and you can ignore this message): INVALID_ARGUMENT: You must feed a value for placeholder tensor 'Placeholder/_0' with dtype int32\n",
      "\t [[{{node Placeholder/_0}}]]\n"
     ]
    },
    {
     "name": "stdout",
     "output_type": "stream",
     "text": [
      "190/190 [==============================] - ETA: 0s - loss: 1.1702 - accuracy: 0.6593"
     ]
    },
    {
     "name": "stderr",
     "output_type": "stream",
     "text": [
      "2024-05-21 19:40:09.354804: I tensorflow/core/common_runtime/executor.cc:1197] [/device:CPU:0] (DEBUG INFO) Executor start aborting (this does not indicate an error and you can ignore this message): INVALID_ARGUMENT: You must feed a value for placeholder tensor 'Placeholder/_0' with dtype int32\n",
      "\t [[{{node Placeholder/_0}}]]\n"
     ]
    },
    {
     "name": "stdout",
     "output_type": "stream",
     "text": [
      "190/190 [==============================] - 75s 393ms/step - loss: 1.1702 - accuracy: 0.6593 - val_loss: 0.9679 - val_accuracy: 0.6792\n",
      "Epoch 2/5\n",
      "190/190 [==============================] - 73s 381ms/step - loss: 1.0064 - accuracy: 0.6768 - val_loss: 0.9227 - val_accuracy: 0.6818\n",
      "Epoch 3/5\n",
      "190/190 [==============================] - 72s 378ms/step - loss: 0.9592 - accuracy: 0.6765 - val_loss: 0.9411 - val_accuracy: 0.6838\n",
      "Epoch 4/5\n",
      "190/190 [==============================] - 72s 379ms/step - loss: 0.9244 - accuracy: 0.6841 - val_loss: 0.8556 - val_accuracy: 0.6931\n",
      "Epoch 5/5\n",
      "190/190 [==============================] - 73s 381ms/step - loss: 0.9043 - accuracy: 0.6786 - val_loss: 0.8470 - val_accuracy: 0.6805\n"
     ]
    }
   ],
   "source": [
    "# Train the model\n",
    "history = model.fit(new_train_gen, epochs=5, validation_data=new_val_gen, batch_size=32, verbose=1)\n"
   ]
  },
  {
   "cell_type": "code",
   "execution_count": 81,
   "id": "174b02e6-07c6-493c-b3b0-b27a1a3050ab",
   "metadata": {},
   "outputs": [
    {
     "data": {
      "image/png": "[encoded data removed]",
      "text/plain": [
       "<Figure size 640x480 with 1 Axes>"
      ]
     },
     "metadata": {},
     "output_type": "display_data"
    },
    {
     "name": "stderr",
     "output_type": "stream",
     "text": [
      "2024-05-21 19:45:12.992186: I tensorflow/core/common_runtime/executor.cc:1197] [/device:CPU:0] (DEBUG INFO) Executor start aborting (this does not indicate an error and you can ignore this message): INVALID_ARGUMENT: You must feed a value for placeholder tensor 'Placeholder/_0' with dtype int32\n",
      "\t [[{{node Placeholder/_0}}]]\n"
     ]
    },
    {
     "name": "stdout",
     "output_type": "stream",
     "text": [
      "190/190 [==============================] - 55s 287ms/step - loss: 0.8356 - accuracy: 0.6865\n",
      " 1/60 [..............................] - ETA: 11s - loss: 0.8467 - accuracy: 0.6875"
     ]
    },
    {
     "name": "stderr",
     "output_type": "stream",
     "text": [
      "2024-05-21 19:46:07.791991: I tensorflow/core/common_runtime/executor.cc:1197] [/device:CPU:0] (DEBUG INFO) Executor start aborting (this does not indicate an error and you can ignore this message): INVALID_ARGUMENT: You must feed a value for placeholder tensor 'Placeholder/_0' with dtype int32\n",
      "\t [[{{node Placeholder/_0}}]]\n"
     ]
    },
    {
     "name": "stdout",
     "output_type": "stream",
     "text": [
      "60/60 [==============================] - 10s 158ms/step - loss: 0.8871 - accuracy: 0.6779\n",
      "Training Accuracy: 0.6865\n",
      "Test Accuracy: 0.6779\n"
     ]
    },
    {
     "name": "stderr",
     "output_type": "stream",
     "text": [
      "2024-05-21 19:46:17.485915: I tensorflow/core/common_runtime/executor.cc:1197] [/device:CPU:0] (DEBUG INFO) Executor start aborting (this does not indicate an error and you can ignore this message): INVALID_ARGUMENT: You must feed a value for placeholder tensor 'Placeholder/_0' with dtype int32\n",
      "\t [[{{node Placeholder/_0}}]]\n"
     ]
    },
    {
     "name": "stdout",
     "output_type": "stream",
     "text": [
      "60/60 [==============================] - 10s 161ms/step\n",
      "Confusion Matrix:\n",
      "[[   0    0   30    0    0   40    0]\n",
      " [   0    0   54    0    0   48    0]\n",
      " [   0    0   64    0    0  141    0]\n",
      " [   0    0   12    0    0   12    0]\n",
      " [   0    0   14    0    0  195    0]\n",
      " [   0    0   26    0    0 1220    0]\n",
      " [   0    0   15    0    0   23    0]]\n",
      "\n",
      "Classification Report:\n",
      "              precision    recall  f1-score   support\n",
      "\n",
      "       akiec       0.00      0.00      0.00        70\n",
      "         bcc       0.00      0.00      0.00       102\n",
      "         bkl       0.30      0.31      0.30       205\n",
      "          df       0.00      0.00      0.00        24\n",
      "         mel       0.00      0.00      0.00       209\n",
      "          nv       0.73      0.98      0.83      1246\n",
      "        vasc       0.00      0.00      0.00        38\n",
      "\n",
      "    accuracy                           0.68      1894\n",
      "   macro avg       0.15      0.18      0.16      1894\n",
      "weighted avg       0.51      0.68      0.58      1894\n",
      "\n"
     ]
    },
    {
     "name": "stderr",
     "output_type": "stream",
     "text": [
      "/opt/anaconda3/lib/python3.11/site-packages/sklearn/metrics/_classification.py:1344: UndefinedMetricWarning: Precision and F-score are ill-defined and being set to 0.0 in labels with no predicted samples. Use `zero_division` parameter to control this behavior.\n",
      "  _warn_prf(average, modifier, msg_start, len(result))\n",
      "/opt/anaconda3/lib/python3.11/site-packages/sklearn/metrics/_classification.py:1344: UndefinedMetricWarning: Precision and F-score are ill-defined and being set to 0.0 in labels with no predicted samples. Use `zero_division` parameter to control this behavior.\n",
      "  _warn_prf(average, modifier, msg_start, len(result))\n",
      "/opt/anaconda3/lib/python3.11/site-packages/sklearn/metrics/_classification.py:1344: UndefinedMetricWarning: Precision and F-score are ill-defined and being set to 0.0 in labels with no predicted samples. Use `zero_division` parameter to control this behavior.\n",
      "  _warn_prf(average, modifier, msg_start, len(result))\n"
     ]
    }
   ],
   "source": [
    "#5a\n",
    "# Plotting training and validation accuracy\n",
    "plt.plot(history.history['accuracy'], label='Training Accuracy')\n",
    "plt.plot(history.history['val_accuracy'], label='Validation Accuracy')\n",
    "plt.title('Training and Validation Accuracy')\n",
    "plt.xlabel('Epoch')\n",
    "plt.ylabel('Accuracy')\n",
    "plt.legend()\n",
    "plt.show()\n",
    "\n",
    "#5b\n",
    "# Training and test accuracy\n",
    "train_loss, train_accuracy = model.evaluate(new_train_gen)\n",
    "test_loss, test_accuracy = model.evaluate(test_gen)\n",
    "print(f'Training Accuracy: {train_accuracy:.4f}')\n",
    "print(f'Test Accuracy: {test_accuracy:.4f}')\n",
    "\n",
    "#5c\n",
    "# Predict classes for the test set\n",
    "y_pred = model.predict(test_gen)\n",
    "y_pred_classes = np.argmax(y_pred, axis=1)\n",
    "y_true_classes = test_gen.classes\n",
    "\n",
    "# Calculate sensitivity and specificity for each class\n",
    "conf_matrix = confusion_matrix(y_true_classes, y_pred_classes)\n",
    "class_names = encoder.categories_[0]  # Assuming 'dx' is the last encoded category\n",
    "class_report = classification_report(y_true_classes, y_pred_classes, target_names=class_names)\n",
    "\n",
    "print('Confusion Matrix:')\n",
    "print(conf_matrix)\n",
    "print('\\nClassification Report:')\n",
    "print(class_report)"
   ]
  },
  {
   "cell_type": "code",
   "execution_count": 82,
   "id": "4000d71d-3fc0-46d6-a0cf-9e5a2d04cae5",
   "metadata": {},
   "outputs": [
    {
     "name": "stdout",
     "output_type": "stream",
     "text": [
      "Epoch 1/10\n"
     ]
    },
    {
     "name": "stderr",
     "output_type": "stream",
     "text": [
      "2024-05-21 19:46:27.680817: I tensorflow/core/common_runtime/executor.cc:1197] [/device:CPU:0] (DEBUG INFO) Executor start aborting (this does not indicate an error and you can ignore this message): INVALID_ARGUMENT: You must feed a value for placeholder tensor 'Placeholder/_0' with dtype int32\n",
      "\t [[{{node Placeholder/_0}}]]\n"
     ]
    },
    {
     "name": "stdout",
     "output_type": "stream",
     "text": [
      "190/190 [==============================] - ETA: 0s - loss: 0.8941 - accuracy: 0.6859"
     ]
    },
    {
     "name": "stderr",
     "output_type": "stream",
     "text": [
      "2024-05-21 19:47:26.724853: I tensorflow/core/common_runtime/executor.cc:1197] [/device:CPU:0] (DEBUG INFO) Executor start aborting (this does not indicate an error and you can ignore this message): INVALID_ARGUMENT: You must feed a value for placeholder tensor 'Placeholder/_0' with dtype int32\n",
      "\t [[{{node Placeholder/_0}}]]\n"
     ]
    },
    {
     "name": "stdout",
     "output_type": "stream",
     "text": [
      "190/190 [==============================] - 73s 382ms/step - loss: 0.8941 - accuracy: 0.6859 - val_loss: 0.8411 - val_accuracy: 0.6911\n",
      "Epoch 2/10\n",
      "190/190 [==============================] - 73s 382ms/step - loss: 0.8735 - accuracy: 0.6801 - val_loss: 0.8093 - val_accuracy: 0.6911\n",
      "Epoch 3/10\n",
      "190/190 [==============================] - 73s 385ms/step - loss: 0.8570 - accuracy: 0.6857 - val_loss: 0.8157 - val_accuracy: 0.6865\n",
      "Epoch 4/10\n",
      "190/190 [==============================] - 74s 390ms/step - loss: 0.8452 - accuracy: 0.6852 - val_loss: 0.7909 - val_accuracy: 0.7089\n",
      "Epoch 5/10\n",
      "190/190 [==============================] - 73s 384ms/step - loss: 0.8401 - accuracy: 0.6969 - val_loss: 0.7808 - val_accuracy: 0.7109\n",
      "Epoch 6/10\n",
      "190/190 [==============================] - 73s 383ms/step - loss: 0.8310 - accuracy: 0.6930 - val_loss: 0.7810 - val_accuracy: 0.7188\n",
      "Epoch 7/10\n",
      "190/190 [==============================] - 73s 383ms/step - loss: 0.8126 - accuracy: 0.7025 - val_loss: 0.7545 - val_accuracy: 0.7234\n",
      "Epoch 8/10\n",
      "190/190 [==============================] - 73s 383ms/step - loss: 0.7987 - accuracy: 0.7050 - val_loss: 0.7571 - val_accuracy: 0.7208\n",
      "Epoch 9/10\n",
      "190/190 [==============================] - 73s 383ms/step - loss: 0.7957 - accuracy: 0.7034 - val_loss: 0.7644 - val_accuracy: 0.7043\n",
      "Epoch 10/10\n",
      "190/190 [==============================] - 73s 382ms/step - loss: 0.7961 - accuracy: 0.6997 - val_loss: 0.7391 - val_accuracy: 0.7267\n"
     ]
    }
   ],
   "source": [
    "# Train the model\n",
    "history = model.fit(new_train_gen, epochs=10, validation_data=new_val_gen, batch_size=32, verbose=1)\n"
   ]
  },
  {
   "cell_type": "code",
   "execution_count": 83,
   "id": "81a8cfa6-8517-44e1-98c8-e9cfd21012da",
   "metadata": {},
   "outputs": [
    {
     "data": {
      "image/png": "[encoded data removed]",
      "text/plain": [
       "<Figure size 640x480 with 1 Axes>"
      ]
     },
     "metadata": {},
     "output_type": "display_data"
    },
    {
     "name": "stderr",
     "output_type": "stream",
     "text": [
      "2024-05-21 19:58:37.699341: I tensorflow/core/common_runtime/executor.cc:1197] [/device:CPU:0] (DEBUG INFO) Executor start aborting (this does not indicate an error and you can ignore this message): INVALID_ARGUMENT: You must feed a value for placeholder tensor 'Placeholder/_0' with dtype int32\n",
      "\t [[{{node Placeholder/_0}}]]\n"
     ]
    },
    {
     "name": "stdout",
     "output_type": "stream",
     "text": [
      "190/190 [==============================] - 55s 291ms/step - loss: 0.7347 - accuracy: 0.7299\n"
     ]
    },
    {
     "name": "stderr",
     "output_type": "stream",
     "text": [
      "2024-05-21 19:59:33.238369: I tensorflow/core/common_runtime/executor.cc:1197] [/device:CPU:0] (DEBUG INFO) Executor start aborting (this does not indicate an error and you can ignore this message): INVALID_ARGUMENT: You must feed a value for placeholder tensor 'Placeholder/_0' with dtype int32\n",
      "\t [[{{node Placeholder/_0}}]]\n"
     ]
    },
    {
     "name": "stdout",
     "output_type": "stream",
     "text": [
      "60/60 [==============================] - 47s 795ms/step - loss: 0.7733 - accuracy: 0.7191\n",
      "Training Accuracy: 0.7299\n",
      "Test Accuracy: 0.7191\n"
     ]
    },
    {
     "name": "stderr",
     "output_type": "stream",
     "text": [
      "2024-05-21 20:00:20.541294: I tensorflow/core/common_runtime/executor.cc:1197] [/device:CPU:0] (DEBUG INFO) Executor start aborting (this does not indicate an error and you can ignore this message): INVALID_ARGUMENT: You must feed a value for placeholder tensor 'Placeholder/_0' with dtype int32\n",
      "\t [[{{node Placeholder/_0}}]]\n"
     ]
    },
    {
     "name": "stdout",
     "output_type": "stream",
     "text": [
      "60/60 [==============================] - 104s 2s/step\n",
      "Confusion Matrix:\n",
      "[[   0   12   32    0    6   20    0]\n",
      " [   0   42   31    0    1   28    0]\n",
      " [   0   10   84    0   15   96    0]\n",
      " [   0    3   12    0    1    8    0]\n",
      " [   0    2   37    0   56  113    1]\n",
      " [   1    9   37    0   37 1161    1]\n",
      " [   0    4    2    0    0   13   19]]\n",
      "\n",
      "Classification Report:\n",
      "              precision    recall  f1-score   support\n",
      "\n",
      "       akiec       0.00      0.00      0.00        70\n",
      "         bcc       0.51      0.41      0.46       102\n",
      "         bkl       0.36      0.41      0.38       205\n",
      "          df       0.00      0.00      0.00        24\n",
      "         mel       0.48      0.27      0.34       209\n",
      "          nv       0.81      0.93      0.86      1246\n",
      "        vasc       0.90      0.50      0.64        38\n",
      "\n",
      "    accuracy                           0.72      1894\n",
      "   macro avg       0.44      0.36      0.38      1894\n",
      "weighted avg       0.67      0.72      0.69      1894\n",
      "\n"
     ]
    },
    {
     "name": "stderr",
     "output_type": "stream",
     "text": [
      "/opt/anaconda3/lib/python3.11/site-packages/sklearn/metrics/_classification.py:1344: UndefinedMetricWarning: Precision and F-score are ill-defined and being set to 0.0 in labels with no predicted samples. Use `zero_division` parameter to control this behavior.\n",
      "  _warn_prf(average, modifier, msg_start, len(result))\n",
      "/opt/anaconda3/lib/python3.11/site-packages/sklearn/metrics/_classification.py:1344: UndefinedMetricWarning: Precision and F-score are ill-defined and being set to 0.0 in labels with no predicted samples. Use `zero_division` parameter to control this behavior.\n",
      "  _warn_prf(average, modifier, msg_start, len(result))\n",
      "/opt/anaconda3/lib/python3.11/site-packages/sklearn/metrics/_classification.py:1344: UndefinedMetricWarning: Precision and F-score are ill-defined and being set to 0.0 in labels with no predicted samples. Use `zero_division` parameter to control this behavior.\n",
      "  _warn_prf(average, modifier, msg_start, len(result))\n"
     ]
    }
   ],
   "source": [
    "#6a\n",
    "# Plotting training and validation accuracy\n",
    "plt.plot(history.history['accuracy'], label='Training Accuracy')\n",
    "plt.plot(history.history['val_accuracy'], label='Validation Accuracy')\n",
    "plt.title('Training and Validation Accuracy')\n",
    "plt.xlabel('Epoch')\n",
    "plt.ylabel('Accuracy')\n",
    "plt.legend()\n",
    "plt.show()\n",
    "\n",
    "#6b\n",
    "# Training and test accuracy\n",
    "train_loss, train_accuracy = model.evaluate(new_train_gen)\n",
    "test_loss, test_accuracy = model.evaluate(test_gen)\n",
    "print(f'Training Accuracy: {train_accuracy:.4f}')\n",
    "print(f'Test Accuracy: {test_accuracy:.4f}')\n",
    "\n",
    "#6c\n",
    "# Predict classes for the test set\n",
    "y_pred = model.predict(test_gen)\n",
    "y_pred_classes = np.argmax(y_pred, axis=1)\n",
    "y_true_classes = test_gen.classes\n",
    "\n",
    "# Calculate sensitivity and specificity for each class\n",
    "conf_matrix = confusion_matrix(y_true_classes, y_pred_classes)\n",
    "class_names = encoder.categories_[0]  # Assuming 'dx' is the last encoded category\n",
    "class_report = classification_report(y_true_classes, y_pred_classes, target_names=class_names)\n",
    "\n",
    "print('Confusion Matrix:')\n",
    "print(conf_matrix)\n",
    "print('\\nClassification Report:')\n",
    "print(class_report)"
   ]
  },
  {
   "cell_type": "code",
   "execution_count": 39,
   "id": "77ea8841-4fa1-4aef-94eb-11f2f3802116",
   "metadata": {},
   "outputs": [
    {
     "name": "stdout",
     "output_type": "stream",
     "text": [
      "Found 6059 validated image filenames belonging to 7 classes.\n",
      "Found 1514 validated image filenames belonging to 7 classes.\n",
      "Found 1894 validated image filenames belonging to 7 classes.\n"
     ]
    }
   ],
   "source": [
    "\n",
    "# Add file extension to image_id to create a new column for image files\n",
    "metadata['image_file'] = metadata['image_id'] + '.jpg'\n",
    "\n",
    "# Encode categorical data\n",
    "encoder = OneHotEncoder(sparse_output=False)\n",
    "type_cat = encoder.fit_transform(metadata['dx'].values.reshape(-1,1))\n",
    "\n",
    "# Train-test split\n",
    "train_df, test_df = train_test_split(metadata, test_size=0.2, random_state=0)\n",
    "\n",
    "# Image paths and parameters\n",
    "image_size = (32, 32)\n",
    "num_classes = type_cat.shape[1]  # Number of classes based on one-hot encoding\n",
    "\n",
    "# ImageDataGenerator for training and test data\n",
    "train_image_gen = ImageDataGenerator(\n",
    "    rescale=1./255,\n",
    "    rotation_range=180,\n",
    "    brightness_range=[0.5, 1.5],\n",
    "    shear_range=0.2,\n",
    "    zoom_range=0.2,\n",
    "    validation_split=0.2  # Use 20% of training data for validation\n",
    ")\n",
    "\n",
    "test_image_gen = ImageDataGenerator(rescale=1./255)\n",
    "\n",
    "train_gen = train_image_gen.flow_from_dataframe(\n",
    "    train_df,\n",
    "    directory='./Images/',\n",
    "    x_col='image_file',\n",
    "    y_col='dx',\n",
    "    target_size=image_size,\n",
    "    class_mode='categorical',\n",
    "    batch_size=32,\n",
    "    subset='training'\n",
    ")\n",
    "\n",
    "val_gen = train_image_gen.flow_from_dataframe(\n",
    "    train_df,\n",
    "    directory='./Images/',\n",
    "    x_col='image_file',\n",
    "    y_col='dx',\n",
    "    target_size=image_size,\n",
    "    class_mode='categorical',\n",
    "    batch_size=32,\n",
    "    subset='validation'\n",
    ")\n",
    "\n",
    "test_gen = test_image_gen.flow_from_dataframe(\n",
    "    test_df,\n",
    "    directory='./Images/',\n",
    "    x_col='image_file',\n",
    "    y_col='dx',\n",
    "    target_size=image_size,\n",
    "    class_mode='categorical',\n",
    "    batch_size=32,\n",
    "    shuffle=False\n",
    ")\n",
    "\n",
    "# Define the model\n",
    "model = Sequential([\n",
    "    Conv2D(32, (3, 3), padding='same', input_shape=(image_size[0], image_size[1], 3), kernel_regularizer=l2(0.01)),\n",
    "    BatchNormalization(),\n",
    "    LeakyReLU(alpha=0.1),\n",
    "    MaxPooling2D(pool_size=(5, 5)),\n",
    "    \n",
    "    Conv2D(64, (3, 3), padding='same', kernel_regularizer=l2(0.01)),\n",
    "    BatchNormalization(),\n",
    "    LeakyReLU(alpha=0.1),\n",
    "    MaxPooling2D(pool_size=(5, 5)),\n",
    "    \n",
    "    Flatten(),\n",
    "    Dense(128, kernel_regularizer=l2(0.01)),\n",
    "    BatchNormalization(),\n",
    "    LeakyReLU(alpha=0.1),\n",
    "    Dropout(0.3),\n",
    "    \n",
    "    Dense(64, kernel_regularizer=l2(0.01)),\n",
    "    BatchNormalization(),\n",
    "    LeakyReLU(alpha=0.1),\n",
    "    Dropout(0.3),\n",
    "    \n",
    "    Dense(32, kernel_regularizer=l2(0.01)),\n",
    "    BatchNormalization(),\n",
    "    LeakyReLU(alpha=0.1),\n",
    "    Dropout(0.3),\n",
    "    \n",
    "    Dense(num_classes, activation='softmax')\n",
    "])\n",
    "\n",
    "# Compile the model\n",
    "model.compile(optimizer='adam', loss='categorical_crossentropy', metrics=['accuracy'])\n"
   ]
  },
  {
   "cell_type": "code",
   "execution_count": 40,
   "id": "a5d6e8ce-14b7-48d2-9b37-2ce00829d257",
   "metadata": {},
   "outputs": [
    {
     "name": "stdout",
     "output_type": "stream",
     "text": [
      "Epoch 1/10\n"
     ]
    },
    {
     "name": "stderr",
     "output_type": "stream",
     "text": [
      "2024-05-21 17:35:53.361100: I tensorflow/core/common_runtime/executor.cc:1197] [/device:CPU:0] (DEBUG INFO) Executor start aborting (this does not indicate an error and you can ignore this message): INVALID_ARGUMENT: You must feed a value for placeholder tensor 'Placeholder/_0' with dtype int32\n",
      "\t [[{{node Placeholder/_0}}]]\n"
     ]
    },
    {
     "name": "stdout",
     "output_type": "stream",
     "text": [
      "190/190 [==============================] - ETA: 0s - loss: 3.3531 - accuracy: 0.6097"
     ]
    },
    {
     "name": "stderr",
     "output_type": "stream",
     "text": [
      "2024-05-21 17:36:24.110120: I tensorflow/core/common_runtime/executor.cc:1197] [/device:CPU:0] (DEBUG INFO) Executor start aborting (this does not indicate an error and you can ignore this message): INVALID_ARGUMENT: You must feed a value for placeholder tensor 'Placeholder/_0' with dtype int32\n",
      "\t [[{{node Placeholder/_0}}]]\n"
     ]
    },
    {
     "name": "stdout",
     "output_type": "stream",
     "text": [
      "190/190 [==============================] - 38s 199ms/step - loss: 3.3531 - accuracy: 0.6097 - val_loss: 2.9958 - val_accuracy: 0.6856\n",
      "Epoch 2/10\n",
      "190/190 [==============================] - 38s 199ms/step - loss: 2.3476 - accuracy: 0.6630 - val_loss: 2.4656 - val_accuracy: 0.6856\n",
      "Epoch 3/10\n",
      "190/190 [==============================] - 38s 199ms/step - loss: 1.7810 - accuracy: 0.6739 - val_loss: 1.5620 - val_accuracy: 0.6962\n",
      "Epoch 4/10\n",
      "190/190 [==============================] - 38s 202ms/step - loss: 1.4557 - accuracy: 0.6721 - val_loss: 1.3033 - val_accuracy: 0.6915\n",
      "Epoch 5/10\n",
      "190/190 [==============================] - 38s 199ms/step - loss: 1.2390 - accuracy: 0.6815 - val_loss: 1.1817 - val_accuracy: 0.7015\n",
      "Epoch 6/10\n",
      "190/190 [==============================] - 38s 199ms/step - loss: 1.1308 - accuracy: 0.6834 - val_loss: 1.0369 - val_accuracy: 0.7034\n",
      "Epoch 7/10\n",
      "190/190 [==============================] - 38s 201ms/step - loss: 1.0551 - accuracy: 0.6856 - val_loss: 1.0002 - val_accuracy: 0.7173\n",
      "Epoch 8/10\n",
      "190/190 [==============================] - 38s 201ms/step - loss: 1.0172 - accuracy: 0.6887 - val_loss: 0.9494 - val_accuracy: 0.7067\n",
      "Epoch 9/10\n",
      "190/190 [==============================] - 38s 200ms/step - loss: 0.9854 - accuracy: 0.6914 - val_loss: 0.9930 - val_accuracy: 0.6565\n",
      "Epoch 10/10\n",
      "190/190 [==============================] - 38s 200ms/step - loss: 0.9737 - accuracy: 0.6907 - val_loss: 1.3720 - val_accuracy: 0.4115\n"
     ]
    }
   ],
   "source": [
    "# Train the model for 10 epochs\n",
    "history = model.fit(train_gen, epochs=10, validation_data=val_gen)\n"
   ]
  },
  {
   "cell_type": "code",
   "execution_count": 84,
   "id": "09ecac30-795c-4cf4-b718-bd6481617509",
   "metadata": {},
   "outputs": [
    {
     "ename": "SyntaxError",
     "evalue": "invalid syntax (633725946.py, line 1)",
     "output_type": "error",
     "traceback": [
      "\u001b[0;36m  Cell \u001b[0;32mIn[84], line 1\u001b[0;36m\u001b[0m\n\u001b[0;31m    suggested tweaks:\u001b[0m\n\u001b[0m              ^\u001b[0m\n\u001b[0;31mSyntaxError\u001b[0m\u001b[0;31m:\u001b[0m invalid syntax\n"
     ]
    }
   ],
   "source": [
    "suggested tweaks:\n"
   ]
  },
  {
   "cell_type": "code",
   "execution_count": 41,
   "id": "8447c4cf-e608-455c-883d-6a32906710c5",
   "metadata": {},
   "outputs": [
    {
     "data": {
      "image/png": "[encoded data removed]",
      "text/plain": [
       "<Figure size 640x480 with 1 Axes>"
      ]
     },
     "metadata": {},
     "output_type": "display_data"
    },
    {
     "name": "stderr",
     "output_type": "stream",
     "text": [
      "2024-05-21 17:42:13.742177: I tensorflow/core/common_runtime/executor.cc:1197] [/device:CPU:0] (DEBUG INFO) Executor start aborting (this does not indicate an error and you can ignore this message): INVALID_ARGUMENT: You must feed a value for placeholder tensor 'Placeholder/_0' with dtype int32\n",
      "\t [[{{node Placeholder/_0}}]]\n"
     ]
    },
    {
     "name": "stdout",
     "output_type": "stream",
     "text": [
      "190/190 [==============================] - 30s 159ms/step - loss: 1.3742 - accuracy: 0.4138\n",
      " 1/60 [..............................] - ETA: 9s - loss: 1.3104 - accuracy: 0.4375"
     ]
    },
    {
     "name": "stderr",
     "output_type": "stream",
     "text": [
      "2024-05-21 17:42:44.208143: I tensorflow/core/common_runtime/executor.cc:1197] [/device:CPU:0] (DEBUG INFO) Executor start aborting (this does not indicate an error and you can ignore this message): INVALID_ARGUMENT: You must feed a value for placeholder tensor 'Placeholder/_0' with dtype int32\n",
      "\t [[{{node Placeholder/_0}}]]\n"
     ]
    },
    {
     "name": "stdout",
     "output_type": "stream",
     "text": [
      "60/60 [==============================] - 9s 151ms/step - loss: 1.4253 - accuracy: 0.4018\n",
      "Training Accuracy: 0.4138\n",
      "Test Accuracy: 0.4018\n"
     ]
    },
    {
     "name": "stderr",
     "output_type": "stream",
     "text": [
      "2024-05-21 17:42:53.414100: I tensorflow/core/common_runtime/executor.cc:1197] [/device:CPU:0] (DEBUG INFO) Executor start aborting (this does not indicate an error and you can ignore this message): INVALID_ARGUMENT: You must feed a value for placeholder tensor 'Placeholder/_0' with dtype int32\n",
      "\t [[{{node Placeholder/_0}}]]\n"
     ]
    },
    {
     "name": "stdout",
     "output_type": "stream",
     "text": [
      "60/60 [==============================] - 9s 149ms/step\n",
      "Confusion Matrix:\n",
      "[[  2   1  46   0  11   0   0]\n",
      " [  4   6  76   0  13   0   0]\n",
      " [  1   1 128   0  86   1   0]\n",
      " [  0   0  17   0   3   0   0]\n",
      " [  0   0  40   0 175   0   0]\n",
      " [  1   1 148   0 663 446   0]\n",
      " [  3   6   3   0   8   0   4]]\n",
      "\n",
      "Classification Report:\n",
      "              precision    recall  f1-score   support\n",
      "\n",
      "       akiec       0.18      0.03      0.06        60\n",
      "         bcc       0.40      0.06      0.11        99\n",
      "         bkl       0.28      0.59      0.38       217\n",
      "          df       0.00      0.00      0.00        20\n",
      "         mel       0.18      0.81      0.30       215\n",
      "          nv       1.00      0.35      0.52      1259\n",
      "        vasc       1.00      0.17      0.29        24\n",
      "\n",
      "    accuracy                           0.40      1894\n",
      "   macro avg       0.43      0.29      0.24      1894\n",
      "weighted avg       0.76      0.40      0.44      1894\n",
      "\n"
     ]
    },
    {
     "name": "stderr",
     "output_type": "stream",
     "text": [
      "/opt/anaconda3/lib/python3.11/site-packages/sklearn/metrics/_classification.py:1344: UndefinedMetricWarning: Precision and F-score are ill-defined and being set to 0.0 in labels with no predicted samples. Use `zero_division` parameter to control this behavior.\n",
      "  _warn_prf(average, modifier, msg_start, len(result))\n",
      "/opt/anaconda3/lib/python3.11/site-packages/sklearn/metrics/_classification.py:1344: UndefinedMetricWarning: Precision and F-score are ill-defined and being set to 0.0 in labels with no predicted samples. Use `zero_division` parameter to control this behavior.\n",
      "  _warn_prf(average, modifier, msg_start, len(result))\n",
      "/opt/anaconda3/lib/python3.11/site-packages/sklearn/metrics/_classification.py:1344: UndefinedMetricWarning: Precision and F-score are ill-defined and being set to 0.0 in labels with no predicted samples. Use `zero_division` parameter to control this behavior.\n",
      "  _warn_prf(average, modifier, msg_start, len(result))\n"
     ]
    }
   ],
   "source": [
    "#7a\n",
    "# Plotting training and validation accuracy\n",
    "plt.plot(history.history['accuracy'], label='Training Accuracy')\n",
    "plt.plot(history.history['val_accuracy'], label='Validation Accuracy')\n",
    "plt.title('Training and Validation Accuracy')\n",
    "plt.xlabel('Epoch')\n",
    "plt.ylabel('Accuracy')\n",
    "plt.legend()\n",
    "plt.show()\n",
    "\n",
    "#7b\n",
    "# Training and test accuracy\n",
    "train_loss, train_accuracy = model.evaluate(train_gen)\n",
    "test_loss, test_accuracy = model.evaluate(test_gen)\n",
    "print(f'Training Accuracy: {train_accuracy:.4f}')\n",
    "print(f'Test Accuracy: {test_accuracy:.4f}')\n",
    "\n",
    "\n",
    "\n",
    "#7c\n",
    "# Predict classes for the test set\n",
    "y_pred = model.predict(test_gen)\n",
    "y_pred_classes = np.argmax(y_pred, axis=1)\n",
    "y_true_classes = test_gen.classes\n",
    "\n",
    "# Calculate sensitivity and specificity for each class\n",
    "conf_matrix = confusion_matrix(y_true_classes, y_pred_classes)\n",
    "class_names = encoder.categories_[0]  # Assuming 'dx' is the only encoded category\n",
    "class_report = classification_report(y_true_classes, y_pred_classes, target_names=class_names)\n",
    "\n",
    "print('Confusion Matrix:')\n",
    "print(conf_matrix)\n",
    "print('\\nClassification Report:')\n",
    "print(class_report)"
   ]
  }
 ],
 "metadata": {
  "kernelspec": {
   "display_name": "Python 3 (ipykernel)",
   "language": "python",
   "name": "python3"
  },
  "language_info": {
   "codemirror_mode": {
    "name": "ipython",
    "version": 3
   },
   "file_extension": ".py",
   "mimetype": "text/x-python",
   "name": "python",
   "nbconvert_exporter": "python",
   "pygments_lexer": "ipython3",
   "version": "3.11.5"
  }
 },
 "nbformat": 4,
 "nbformat_minor": 5
}
